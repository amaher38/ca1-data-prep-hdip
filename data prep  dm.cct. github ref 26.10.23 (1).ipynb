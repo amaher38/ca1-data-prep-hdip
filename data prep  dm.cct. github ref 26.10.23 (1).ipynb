{
 "cells": [
  {
   "cell_type": "markdown",
   "metadata": {},
   "source": [
    "Table of Contents\n",
    "\n",
    "Preface\n",
    "\n",
    "\n",
    "\n",
    "1 – Look at the Big Picture\n",
    "\n",
    "2 – Business Constraints\n",
    "\n",
    "3 – Dataset Backround\n",
    "\n",
    "4 – Literature Review\n",
    "\n",
    "6 – Get the Data\n",
    "\n",
    "7 – Discover & Visualize the Data to gain Insights\n",
    "\n",
    "8- Select & Train our Models\n",
    "\n",
    "9 – Fine Tune Our Model\n",
    "\n",
    "10- Present Our Model\n",
    "\n",
    "11- Conclusion\n",
    "\n",
    "12 - References"
   ]
  },
  {
   "cell_type": "code",
   "execution_count": 1,
   "metadata": {
    "scrolled": true
   },
   "outputs": [
    {
     "data": {
      "text/html": [
       "<script>\n",
       "\n",
       "code_show=true; \n",
       "\n",
       "function code_toggle() {\n",
       "\n",
       " if (code_show){\n",
       "\n",
       " $('div.input').hide();\n",
       "\n",
       " } else {\n",
       "\n",
       " $('div.input').show();\n",
       "\n",
       " }\n",
       "\n",
       " code_show = !code_show\n",
       "\n",
       "} \n",
       "\n",
       "$( document ).ready(code_toggle);\n",
       "\n",
       "</script>\n",
       "\n",
       "<form action=\"javascript:code_toggle()\"><input type=\"submit\" value=\"Click here to toggle on/off the raw code.\"></form>"
      ],
      "text/plain": [
       "<IPython.core.display.HTML object>"
      ]
     },
     "execution_count": 1,
     "metadata": {},
     "output_type": "execute_result"
    }
   ],
   "source": [
    "from IPython.display import HTML\n",
    "\n",
    "HTML('''<script>\n",
    "\n",
    "code_show=true; \n",
    "\n",
    "function code_toggle() {\n",
    "\n",
    " if (code_show){\n",
    "\n",
    " $('div.input').hide();\n",
    "\n",
    " } else {\n",
    "\n",
    " $('div.input').show();\n",
    "\n",
    " }\n",
    "\n",
    " code_show = !code_show\n",
    "\n",
    "} \n",
    "\n",
    "$( document ).ready(code_toggle);\n",
    "\n",
    "</script>\n",
    "\n",
    "<form action=\"javascript:code_toggle()\"><input type=\"submit\" value=\"Click here to toggle on/off the raw code.\"></form>''')"
   ]
  },
  {
   "cell_type": "code",
   "execution_count": 2,
   "metadata": {},
   "outputs": [],
   "source": [
    "def generate_harvard_citation(author,year,title,url,access_date):\n",
    "    citation= f'{author},{year}.{title}..Available at: {url} [Accesed] {access_date}]'\n",
    "    return citation"
   ]
  },
  {
   "cell_type": "code",
   "execution_count": 3,
   "metadata": {},
   "outputs": [
    {
     "name": "stdout",
     "output_type": "stream",
     "text": [
      "Rithwik Shetty,2021. Predicting a Failure in Scania’s Air Pressure System..Available at: https://medium.com/towards-data-science/predicting-a-failure-in-scanias-air-pressure-system-aps-c260bcc4d038 [Accesed] 27-10-2023]\n"
     ]
    }
   ],
   "source": [
    "# Example usage\n",
    "author = \"Rithwik Shetty\"\n",
    "year = \"2021\"\n",
    "title =' Predicting a Failure in Scania’s Air Pressure System'\n",
    "url = \"https://medium.com/towards-data-science/predicting-a-failure-in-scanias-air-pressure-system-aps-c260bcc4d038\"\n",
    "access_date = \"27-10-2023\"\n",
    "citation = generate_harvard_citation(author, year, title, url, access_date)\n",
    "print(citation)"
   ]
  },
  {
   "cell_type": "markdown",
   "metadata": {},
   "source": [
    "# The Big Picture"
   ]
  },
  {
   "cell_type": "markdown",
   "metadata": {},
   "source": [
    "We have been tasked by a haulage company to analyse a dataset collected from their scania truck fleet which are used daily. They advise that it is essential to reduce maintance costs as a result breakdowns during daily operations. They advise us some of these breakdowns are  due to the failure of the air pressure system. They have asked by using Data Analytics can we use the dataset to reduce these costs.\n",
    "\n",
    "WE advise that it may be possible to build a predictive model that may help in identfying the compontents that are and are not linked to the breakdown of the air pressure system. This may help them to arrange maintance schedules to insure the optium functioning of their fleet."
   ]
  },
  {
   "cell_type": "markdown",
   "metadata": {},
   "source": [
    "The air pressure system in heavy duty trucks use  compressed air to drive the pistons which use the brake pads to slow down the vechicle. The advantage of this system over a  hydraulic system is that is easyily available and cost effective. However we need to be mindful that as a result of our analysis this may extend or reduce the service intervals for these trucks. There have been instances were failures of air pressure systems have led to human fatalies as a result the cost of misclassification is high. As our EDA will ultimatley lead to a machine learing predictive model being produced it is something we need to be aware off. "
   ]
  },
  {
   "cell_type": "markdown",
   "metadata": {},
   "source": [
    "# Machine Learning Formation"
   ]
  },
  {
   "cell_type": "markdown",
   "metadata": {},
   "source": [
    "This is a binary classification problem. We are presented with two classes postive & negative. The postive class us that the failure was due to a specific component of the APS system, the negative class informs us that the failure has to do with other compnents within the truck. There we would propose that it may be possible to build a machine learning model that when given a  new data point(sensor information) wherther the failure was due to the trucks APS or not\n",
    "Rithwik Shetty,2021. Predicting a Failure in Scania’s Air Pressure System.[Online Course] .Available at: https://medium.com/towards-data-science/predicting-a-failure-in-scanias-air-pressure-system-aps-c260bcc4d038 [Accesed] 26-10-2023]"
   ]
  },
  {
   "cell_type": "markdown",
   "metadata": {},
   "source": [
    "# Business Constraints"
   ]
  },
  {
   "cell_type": "markdown",
   "metadata": {},
   "source": [
    "Latency the time taken to detect a failure in the APS system must be low to avoid an increase in maintenance costs.\n",
    "\n",
    "We need to consider how we clasify our results. If we build a model which clasifys our data incorrectly this could lead to the breakdown of a truck leading to increase maintance costs "
   ]
  },
  {
   "cell_type": "markdown",
   "metadata": {},
   "source": [
    "# Datset Backround"
   ]
  },
  {
   "cell_type": "markdown",
   "metadata": {},
   "source": [
    "There are over 60.000 datapoints and 171 features within our Dataset. This then can be classed as a high dimensional dataset. This could lead to the curse of dimensionality which may cause problems. in a high dimensional space such as our dataset the concept of distance between data points become less meaningful. It is difficult to find a pattern in the data due to the amount of features.The model starts capturing noise with the data rather than the pattern within the data. One tool to deal with promlem is Princpial Component Analysis (PCA) this tool allows to reduce the features to lower dimensional space thereby allowing us to identify patterns within our data.\n",
    "\n",
    "While we will use PCA to reduce out features it may not be the optimal solution for our problem. The dataset contains over 170 features which give us rearings from components within the truck, some measurements relate to the APS system, some do not. Our model needs to identify which components are likely to fail. Here we run into no free lunch theorom PCA will allow us to reduce our features but we lose the ability to interpret which components are related to the breaakdown of the APS brake system. \n",
    "\n",
    "Another problem we need to be aware is there ia a lot of missing data. This data is classified as missing completally at random(MCAR) as there is no relationship with the missing data point oan other date within the dataset we will suitable imputation methods to resolve this.\n",
    "\n",
    "We also have an imbalanced class feature  over 59,000 data points relate to the negative class. This could mean our model could guess and end up with a 90% accurracy but would not work well with new data. We will use a smote method to balance our class features.\n"
   ]
  },
  {
   "cell_type": "markdown",
   "metadata": {},
   "source": [
    "# Literature Review"
   ]
  },
  {
   "cell_type": "markdown",
   "metadata": {},
   "source": [
    "Cerqueira, Vítor, et al. “Combining Boosted Trees with Metafeature Engineering for Predictive Maintenance.” International Symposium on Intelligent Data Analysis. Springer, Cham, 2016.\n",
    "\n",
    "This paper mentions that the authors’ approach to this problem consists of 4 steps. (i) A filter that excludes a subset of features and data points based on the number of missing values; (ii) A metafeature engineering procedure used to create new features based on existing information; (iii) a biased sampling method to deal with class imbalance problem (SMOTE); and (iv) use of boosted trees for classification.\n",
    "\n",
    "Features having a high percentage of missing values were removed. During their analysis, they found that some features had an extremity of 80% data missing, and 8 out of 170 features had more than 50% missing values. After removing the said features, it was seen that there were duplicate data points, indicating that the removed features have a little effect in getting a good score.\n",
    "\n",
    "They mentioned that they are treating the problem as an Anomaly Detection problem since the positive class of the data are characterized by rare events in the domain. They used BoxPlot Analysis (for each feature, compare each value to the typical value found in that feature), Local Outlier Factor (compare data point to it’s local neighborhood through density estimation) and Hierarchical Agglomerative Clustering (each step merges two similar group, and the last observation that are merged might be an outlier) for their metafeature engineering.\n",
    "\n",
    "SMOTE is a method of duplicating the data points of the minority class of the imbalanced dataset, to balance it out. The use of SMOTE + MetaFeature Engineering with XGBOOST library was seen to give the best result.\n",
    "\n",
    "https://medium.com/towards-data-science/predicting-a-failure-in-scanias-air-pressure-system-aps-c260bcc4d038 [Accesed] 26-10-2023]\n",
    "\n",
    "Costa, Camila Ferreira, and Mario A. Nascimento. “IDA 2016 Industrial Challenge: Using Machine Learning for Predicting Failures.” International Symposium on Intelligent Data Analysis. Springer, Cham, 2016.\n",
    "\n",
    "The authors tried different algorithms, namely, Logistic Regression, K-NN, SVM, Decision Trees and Random Forests to solve the problem. They handled the missing data by implementing the Soft-Impute Algorithm. It is a large scale matrix completion algorithm that replaces missing values with current guesses and solves an optimization problem. The imbalance data was handled by setting a high threshold (cut-off) value, meaning the model will predict a negative class only if it is extremely sure.\n",
    "\n",
    "The final result showed that Random Forest performed the best, giving a Total Cost (given metric) that was 92.56% lesser than their baseline model. The KNN model was the second best classifier with 90.84% improvement, and the Logistic Regression model worked well with 88.72% improvement. The SVM with RBF Kernel improved the total cost by just 86.36%.\n",
    "\n",
    "This paper compares the performance of different models, on data whose missing values were imputed using more complex algorithms rather than simple mean/median. We see that Ensemble models will work well to tackle this problem, and a high threshold value plays a key role in handling imbalanced data.\n",
    "\n",
    "https://medium.com/towards-data-science/predicting-a-failure-in-scanias-air-pressure-system-aps-c260bcc4d038 [Accesed] 26-10-2023]\n",
    "\n"
   ]
  },
  {
   "cell_type": "markdown",
   "metadata": {},
   "source": [
    "# Performance Metrics"
   ]
  },
  {
   "cell_type": "markdown",
   "metadata": {},
   "source": [
    "For this project, our performance statistic of choice will be the Macro-F1 Score. The F1 scores for each class are factored into the macro F1 score. It might be useful in demonstrating to us how well our model performs depending on the quantity of correctly identified points for each class. This is helpful because misclassification can be highly costly because an undetected APS breakdown can cause the truck to malfunction while in service and raise maintenance expenses.\n",
    "\n",
    "https://medium.com/towards-data-science/predicting-a-failure-in-scanias-air-pressure-system-aps-c260bcc4d038 [Accesed] 26-10-2023]"
   ]
  },
  {
   "cell_type": "markdown",
   "metadata": {},
   "source": [
    "# Get The Data"
   ]
  },
  {
   "cell_type": "code",
   "execution_count": 4,
   "metadata": {},
   "outputs": [
    {
     "name": "stderr",
     "output_type": "stream",
     "text": [
      "C:\\Users\\andrew\\anaconda3\\lib\\site-packages\\pandas\\core\\computation\\expressions.py:20: UserWarning: Pandas requires version '2.7.3' or newer of 'numexpr' (version '2.7.1' currently installed).\n",
      "  from pandas.core.computation.check import NUMEXPR_INSTALLED\n"
     ]
    }
   ],
   "source": [
    "# import the libraries\n",
    "import numpy as np\n",
    "import pandas as pd\n",
    "import matplotlib.pyplot as plt\n",
    "import seaborn as sns\n",
    "from sklearn.decomposition import PCA\n",
    "from sklearn.impute import SimpleImputer\n",
    "from tqdm import tqdm\n",
    "import missingno as msno\n",
    "from sklearn.preprocessing import StandardScaler\n",
    "from matplotlib import pyplot\n",
    "from sklearn.model_selection import train_test_split\n",
    "from sklearn.model_selection import cross_val_score\n",
    "from sklearn.model_selection import StratifiedKFold\n",
    "from sklearn.linear_model import LogisticRegression\n",
    "from sklearn.tree import DecisionTreeClassifier\n",
    "from sklearn.neighbors import KNeighborsClassifier\n",
    "from sklearn.discriminant_analysis import LinearDiscriminantAnalysis\n",
    "from sklearn.naive_bayes import GaussianNB\n",
    "from sklearn.metrics import classification_report\n",
    "from sklearn.metrics import confusion_matrix\n",
    "from sklearn.metrics import accuracy_score\n",
    "from sklearn.svm import SVC\n",
    "from mpl_toolkits.mplot3d import Axes3D\n",
    "from sklearn.metrics import accuracy_score,confusion_matrix,precision_score,recall_score,f1_score\n",
    "from sklearn.ensemble import GradientBoostingClassifier,AdaBoostClassifier\n",
    "from sklearn.impute import SimpleImputer\n",
    "from sklearn.experimental import enable_iterative_imputer\n",
    "from sklear.impute import IterativeImputer\n",
    "from sklearn.linear_model import Ridge\n",
    "import warnings\n",
    "warnings.filterwarnings('ignore') \n"
   ]
  },
  {
   "cell_type": "code",
   "execution_count": 5,
   "metadata": {},
   "outputs": [
    {
     "data": {
      "text/html": [
       "<div>\n",
       "<style scoped>\n",
       "    .dataframe tbody tr th:only-of-type {\n",
       "        vertical-align: middle;\n",
       "    }\n",
       "\n",
       "    .dataframe tbody tr th {\n",
       "        vertical-align: top;\n",
       "    }\n",
       "\n",
       "    .dataframe thead th {\n",
       "        text-align: right;\n",
       "    }\n",
       "</style>\n",
       "<table border=\"1\" class=\"dataframe\">\n",
       "  <thead>\n",
       "    <tr style=\"text-align: right;\">\n",
       "      <th></th>\n",
       "      <th>class</th>\n",
       "      <th>aa_000</th>\n",
       "      <th>ab_000</th>\n",
       "      <th>ac_000</th>\n",
       "      <th>ad_000</th>\n",
       "      <th>ae_000</th>\n",
       "      <th>af_000</th>\n",
       "      <th>ag_000</th>\n",
       "      <th>ag_001</th>\n",
       "      <th>ag_002</th>\n",
       "      <th>...</th>\n",
       "      <th>ee_002</th>\n",
       "      <th>ee_003</th>\n",
       "      <th>ee_004</th>\n",
       "      <th>ee_005</th>\n",
       "      <th>ee_006</th>\n",
       "      <th>ee_007</th>\n",
       "      <th>ee_008</th>\n",
       "      <th>ee_009</th>\n",
       "      <th>ef_000</th>\n",
       "      <th>eg_000</th>\n",
       "    </tr>\n",
       "  </thead>\n",
       "  <tbody>\n",
       "    <tr>\n",
       "      <th>0</th>\n",
       "      <td>neg</td>\n",
       "      <td>76698</td>\n",
       "      <td>NaN</td>\n",
       "      <td>2.130706e+09</td>\n",
       "      <td>280.0</td>\n",
       "      <td>0.0</td>\n",
       "      <td>0.0</td>\n",
       "      <td>0.0</td>\n",
       "      <td>0.0</td>\n",
       "      <td>0.0</td>\n",
       "      <td>...</td>\n",
       "      <td>1240520.0</td>\n",
       "      <td>493384.0</td>\n",
       "      <td>721044.0</td>\n",
       "      <td>469792.0</td>\n",
       "      <td>339156.0</td>\n",
       "      <td>157956.0</td>\n",
       "      <td>73224.0</td>\n",
       "      <td>0.0</td>\n",
       "      <td>0.0</td>\n",
       "      <td>0.0</td>\n",
       "    </tr>\n",
       "    <tr>\n",
       "      <th>1</th>\n",
       "      <td>neg</td>\n",
       "      <td>33058</td>\n",
       "      <td>NaN</td>\n",
       "      <td>0.000000e+00</td>\n",
       "      <td>NaN</td>\n",
       "      <td>0.0</td>\n",
       "      <td>0.0</td>\n",
       "      <td>0.0</td>\n",
       "      <td>0.0</td>\n",
       "      <td>0.0</td>\n",
       "      <td>...</td>\n",
       "      <td>421400.0</td>\n",
       "      <td>178064.0</td>\n",
       "      <td>293306.0</td>\n",
       "      <td>245416.0</td>\n",
       "      <td>133654.0</td>\n",
       "      <td>81140.0</td>\n",
       "      <td>97576.0</td>\n",
       "      <td>1500.0</td>\n",
       "      <td>0.0</td>\n",
       "      <td>0.0</td>\n",
       "    </tr>\n",
       "    <tr>\n",
       "      <th>2</th>\n",
       "      <td>neg</td>\n",
       "      <td>41040</td>\n",
       "      <td>NaN</td>\n",
       "      <td>2.280000e+02</td>\n",
       "      <td>100.0</td>\n",
       "      <td>0.0</td>\n",
       "      <td>0.0</td>\n",
       "      <td>0.0</td>\n",
       "      <td>0.0</td>\n",
       "      <td>0.0</td>\n",
       "      <td>...</td>\n",
       "      <td>277378.0</td>\n",
       "      <td>159812.0</td>\n",
       "      <td>423992.0</td>\n",
       "      <td>409564.0</td>\n",
       "      <td>320746.0</td>\n",
       "      <td>158022.0</td>\n",
       "      <td>95128.0</td>\n",
       "      <td>514.0</td>\n",
       "      <td>0.0</td>\n",
       "      <td>0.0</td>\n",
       "    </tr>\n",
       "    <tr>\n",
       "      <th>3</th>\n",
       "      <td>neg</td>\n",
       "      <td>12</td>\n",
       "      <td>0.0</td>\n",
       "      <td>7.000000e+01</td>\n",
       "      <td>66.0</td>\n",
       "      <td>0.0</td>\n",
       "      <td>10.0</td>\n",
       "      <td>0.0</td>\n",
       "      <td>0.0</td>\n",
       "      <td>0.0</td>\n",
       "      <td>...</td>\n",
       "      <td>240.0</td>\n",
       "      <td>46.0</td>\n",
       "      <td>58.0</td>\n",
       "      <td>44.0</td>\n",
       "      <td>10.0</td>\n",
       "      <td>0.0</td>\n",
       "      <td>0.0</td>\n",
       "      <td>0.0</td>\n",
       "      <td>4.0</td>\n",
       "      <td>32.0</td>\n",
       "    </tr>\n",
       "    <tr>\n",
       "      <th>4</th>\n",
       "      <td>neg</td>\n",
       "      <td>60874</td>\n",
       "      <td>NaN</td>\n",
       "      <td>1.368000e+03</td>\n",
       "      <td>458.0</td>\n",
       "      <td>0.0</td>\n",
       "      <td>0.0</td>\n",
       "      <td>0.0</td>\n",
       "      <td>0.0</td>\n",
       "      <td>0.0</td>\n",
       "      <td>...</td>\n",
       "      <td>622012.0</td>\n",
       "      <td>229790.0</td>\n",
       "      <td>405298.0</td>\n",
       "      <td>347188.0</td>\n",
       "      <td>286954.0</td>\n",
       "      <td>311560.0</td>\n",
       "      <td>433954.0</td>\n",
       "      <td>1218.0</td>\n",
       "      <td>0.0</td>\n",
       "      <td>0.0</td>\n",
       "    </tr>\n",
       "    <tr>\n",
       "      <th>...</th>\n",
       "      <td>...</td>\n",
       "      <td>...</td>\n",
       "      <td>...</td>\n",
       "      <td>...</td>\n",
       "      <td>...</td>\n",
       "      <td>...</td>\n",
       "      <td>...</td>\n",
       "      <td>...</td>\n",
       "      <td>...</td>\n",
       "      <td>...</td>\n",
       "      <td>...</td>\n",
       "      <td>...</td>\n",
       "      <td>...</td>\n",
       "      <td>...</td>\n",
       "      <td>...</td>\n",
       "      <td>...</td>\n",
       "      <td>...</td>\n",
       "      <td>...</td>\n",
       "      <td>...</td>\n",
       "      <td>...</td>\n",
       "      <td>...</td>\n",
       "    </tr>\n",
       "    <tr>\n",
       "      <th>59990</th>\n",
       "      <td>neg</td>\n",
       "      <td>81354</td>\n",
       "      <td>NaN</td>\n",
       "      <td>2.130706e+09</td>\n",
       "      <td>156.0</td>\n",
       "      <td>0.0</td>\n",
       "      <td>0.0</td>\n",
       "      <td>0.0</td>\n",
       "      <td>0.0</td>\n",
       "      <td>0.0</td>\n",
       "      <td>...</td>\n",
       "      <td>627610.0</td>\n",
       "      <td>376028.0</td>\n",
       "      <td>931828.0</td>\n",
       "      <td>1035236.0</td>\n",
       "      <td>674626.0</td>\n",
       "      <td>161266.0</td>\n",
       "      <td>3284.0</td>\n",
       "      <td>0.0</td>\n",
       "      <td>0.0</td>\n",
       "      <td>0.0</td>\n",
       "    </tr>\n",
       "    <tr>\n",
       "      <th>59991</th>\n",
       "      <td>neg</td>\n",
       "      <td>39308</td>\n",
       "      <td>NaN</td>\n",
       "      <td>4.520000e+02</td>\n",
       "      <td>374.0</td>\n",
       "      <td>0.0</td>\n",
       "      <td>0.0</td>\n",
       "      <td>0.0</td>\n",
       "      <td>0.0</td>\n",
       "      <td>0.0</td>\n",
       "      <td>...</td>\n",
       "      <td>312426.0</td>\n",
       "      <td>161694.0</td>\n",
       "      <td>323438.0</td>\n",
       "      <td>292350.0</td>\n",
       "      <td>250112.0</td>\n",
       "      <td>157636.0</td>\n",
       "      <td>234932.0</td>\n",
       "      <td>9506.0</td>\n",
       "      <td>0.0</td>\n",
       "      <td>0.0</td>\n",
       "    </tr>\n",
       "    <tr>\n",
       "      <th>59992</th>\n",
       "      <td>neg</td>\n",
       "      <td>14</td>\n",
       "      <td>0.0</td>\n",
       "      <td>2.000000e+00</td>\n",
       "      <td>2.0</td>\n",
       "      <td>0.0</td>\n",
       "      <td>0.0</td>\n",
       "      <td>0.0</td>\n",
       "      <td>0.0</td>\n",
       "      <td>0.0</td>\n",
       "      <td>...</td>\n",
       "      <td>132.0</td>\n",
       "      <td>44.0</td>\n",
       "      <td>80.0</td>\n",
       "      <td>52.0</td>\n",
       "      <td>54.0</td>\n",
       "      <td>0.0</td>\n",
       "      <td>0.0</td>\n",
       "      <td>0.0</td>\n",
       "      <td>0.0</td>\n",
       "      <td>0.0</td>\n",
       "    </tr>\n",
       "    <tr>\n",
       "      <th>59993</th>\n",
       "      <td>neg</td>\n",
       "      <td>0</td>\n",
       "      <td>2.0</td>\n",
       "      <td>0.000000e+00</td>\n",
       "      <td>0.0</td>\n",
       "      <td>0.0</td>\n",
       "      <td>0.0</td>\n",
       "      <td>0.0</td>\n",
       "      <td>0.0</td>\n",
       "      <td>0.0</td>\n",
       "      <td>...</td>\n",
       "      <td>0.0</td>\n",
       "      <td>0.0</td>\n",
       "      <td>0.0</td>\n",
       "      <td>0.0</td>\n",
       "      <td>0.0</td>\n",
       "      <td>0.0</td>\n",
       "      <td>0.0</td>\n",
       "      <td>0.0</td>\n",
       "      <td>0.0</td>\n",
       "      <td>0.0</td>\n",
       "    </tr>\n",
       "    <tr>\n",
       "      <th>59994</th>\n",
       "      <td>neg</td>\n",
       "      <td>32</td>\n",
       "      <td>0.0</td>\n",
       "      <td>0.000000e+00</td>\n",
       "      <td>NaN</td>\n",
       "      <td>0.0</td>\n",
       "      <td>0.0</td>\n",
       "      <td>0.0</td>\n",
       "      <td>0.0</td>\n",
       "      <td>0.0</td>\n",
       "      <td>...</td>\n",
       "      <td>258.0</td>\n",
       "      <td>98.0</td>\n",
       "      <td>224.0</td>\n",
       "      <td>166.0</td>\n",
       "      <td>36.0</td>\n",
       "      <td>486.0</td>\n",
       "      <td>0.0</td>\n",
       "      <td>0.0</td>\n",
       "      <td>0.0</td>\n",
       "      <td>0.0</td>\n",
       "    </tr>\n",
       "  </tbody>\n",
       "</table>\n",
       "<p>59995 rows × 171 columns</p>\n",
       "</div>"
      ],
      "text/plain": [
       "      class  aa_000  ab_000        ac_000  ad_000  ae_000  af_000  ag_000  \\\n",
       "0       neg   76698     NaN  2.130706e+09   280.0     0.0     0.0     0.0   \n",
       "1       neg   33058     NaN  0.000000e+00     NaN     0.0     0.0     0.0   \n",
       "2       neg   41040     NaN  2.280000e+02   100.0     0.0     0.0     0.0   \n",
       "3       neg      12     0.0  7.000000e+01    66.0     0.0    10.0     0.0   \n",
       "4       neg   60874     NaN  1.368000e+03   458.0     0.0     0.0     0.0   \n",
       "...     ...     ...     ...           ...     ...     ...     ...     ...   \n",
       "59990   neg   81354     NaN  2.130706e+09   156.0     0.0     0.0     0.0   \n",
       "59991   neg   39308     NaN  4.520000e+02   374.0     0.0     0.0     0.0   \n",
       "59992   neg      14     0.0  2.000000e+00     2.0     0.0     0.0     0.0   \n",
       "59993   neg       0     2.0  0.000000e+00     0.0     0.0     0.0     0.0   \n",
       "59994   neg      32     0.0  0.000000e+00     NaN     0.0     0.0     0.0   \n",
       "\n",
       "       ag_001  ag_002  ...     ee_002    ee_003    ee_004     ee_005  \\\n",
       "0         0.0     0.0  ...  1240520.0  493384.0  721044.0   469792.0   \n",
       "1         0.0     0.0  ...   421400.0  178064.0  293306.0   245416.0   \n",
       "2         0.0     0.0  ...   277378.0  159812.0  423992.0   409564.0   \n",
       "3         0.0     0.0  ...      240.0      46.0      58.0       44.0   \n",
       "4         0.0     0.0  ...   622012.0  229790.0  405298.0   347188.0   \n",
       "...       ...     ...  ...        ...       ...       ...        ...   \n",
       "59990     0.0     0.0  ...   627610.0  376028.0  931828.0  1035236.0   \n",
       "59991     0.0     0.0  ...   312426.0  161694.0  323438.0   292350.0   \n",
       "59992     0.0     0.0  ...      132.0      44.0      80.0       52.0   \n",
       "59993     0.0     0.0  ...        0.0       0.0       0.0        0.0   \n",
       "59994     0.0     0.0  ...      258.0      98.0     224.0      166.0   \n",
       "\n",
       "         ee_006    ee_007    ee_008  ee_009  ef_000  eg_000  \n",
       "0      339156.0  157956.0   73224.0     0.0     0.0     0.0  \n",
       "1      133654.0   81140.0   97576.0  1500.0     0.0     0.0  \n",
       "2      320746.0  158022.0   95128.0   514.0     0.0     0.0  \n",
       "3          10.0       0.0       0.0     0.0     4.0    32.0  \n",
       "4      286954.0  311560.0  433954.0  1218.0     0.0     0.0  \n",
       "...         ...       ...       ...     ...     ...     ...  \n",
       "59990  674626.0  161266.0    3284.0     0.0     0.0     0.0  \n",
       "59991  250112.0  157636.0  234932.0  9506.0     0.0     0.0  \n",
       "59992      54.0       0.0       0.0     0.0     0.0     0.0  \n",
       "59993       0.0       0.0       0.0     0.0     0.0     0.0  \n",
       "59994      36.0     486.0       0.0     0.0     0.0     0.0  \n",
       "\n",
       "[59995 rows x 171 columns]"
      ]
     },
     "execution_count": 5,
     "metadata": {},
     "output_type": "execute_result"
    }
   ],
   "source": [
    "# Read the dataset\n",
    "train = pd.read_csv('aps_failure_set.csv',na_values=[\"na\"])\n",
    "\n",
    "# Show first 5 records\n",
    "train.head(-5)"
   ]
  },
  {
   "cell_type": "code",
   "execution_count": 6,
   "metadata": {},
   "outputs": [
    {
     "data": {
      "text/plain": [
       "(60000, 171)"
      ]
     },
     "execution_count": 6,
     "metadata": {},
     "output_type": "execute_result"
    }
   ],
   "source": [
    "train.shape"
   ]
  },
  {
   "cell_type": "code",
   "execution_count": 7,
   "metadata": {},
   "outputs": [
    {
     "data": {
      "text/html": [
       "<div>\n",
       "<style scoped>\n",
       "    .dataframe tbody tr th:only-of-type {\n",
       "        vertical-align: middle;\n",
       "    }\n",
       "\n",
       "    .dataframe tbody tr th {\n",
       "        vertical-align: top;\n",
       "    }\n",
       "\n",
       "    .dataframe thead th {\n",
       "        text-align: right;\n",
       "    }\n",
       "</style>\n",
       "<table border=\"1\" class=\"dataframe\">\n",
       "  <thead>\n",
       "    <tr style=\"text-align: right;\">\n",
       "      <th></th>\n",
       "      <th>class</th>\n",
       "      <th>aa_000</th>\n",
       "      <th>ab_000</th>\n",
       "      <th>ac_000</th>\n",
       "      <th>ad_000</th>\n",
       "      <th>ae_000</th>\n",
       "      <th>af_000</th>\n",
       "      <th>ag_000</th>\n",
       "      <th>ag_001</th>\n",
       "      <th>ag_002</th>\n",
       "      <th>...</th>\n",
       "      <th>ee_002</th>\n",
       "      <th>ee_003</th>\n",
       "      <th>ee_004</th>\n",
       "      <th>ee_005</th>\n",
       "      <th>ee_006</th>\n",
       "      <th>ee_007</th>\n",
       "      <th>ee_008</th>\n",
       "      <th>ee_009</th>\n",
       "      <th>ef_000</th>\n",
       "      <th>eg_000</th>\n",
       "    </tr>\n",
       "  </thead>\n",
       "  <tbody>\n",
       "    <tr>\n",
       "      <th>count</th>\n",
       "      <td>60000</td>\n",
       "      <td>6.000000e+04</td>\n",
       "      <td>13671.000000</td>\n",
       "      <td>5.666500e+04</td>\n",
       "      <td>4.513900e+04</td>\n",
       "      <td>57500.000000</td>\n",
       "      <td>57500.000000</td>\n",
       "      <td>5.932900e+04</td>\n",
       "      <td>5.932900e+04</td>\n",
       "      <td>5.932900e+04</td>\n",
       "      <td>...</td>\n",
       "      <td>5.932900e+04</td>\n",
       "      <td>5.932900e+04</td>\n",
       "      <td>5.932900e+04</td>\n",
       "      <td>5.932900e+04</td>\n",
       "      <td>5.932900e+04</td>\n",
       "      <td>5.932900e+04</td>\n",
       "      <td>5.932900e+04</td>\n",
       "      <td>5.932900e+04</td>\n",
       "      <td>57276.000000</td>\n",
       "      <td>57277.000000</td>\n",
       "    </tr>\n",
       "    <tr>\n",
       "      <th>unique</th>\n",
       "      <td>2</td>\n",
       "      <td>NaN</td>\n",
       "      <td>NaN</td>\n",
       "      <td>NaN</td>\n",
       "      <td>NaN</td>\n",
       "      <td>NaN</td>\n",
       "      <td>NaN</td>\n",
       "      <td>NaN</td>\n",
       "      <td>NaN</td>\n",
       "      <td>NaN</td>\n",
       "      <td>...</td>\n",
       "      <td>NaN</td>\n",
       "      <td>NaN</td>\n",
       "      <td>NaN</td>\n",
       "      <td>NaN</td>\n",
       "      <td>NaN</td>\n",
       "      <td>NaN</td>\n",
       "      <td>NaN</td>\n",
       "      <td>NaN</td>\n",
       "      <td>NaN</td>\n",
       "      <td>NaN</td>\n",
       "    </tr>\n",
       "    <tr>\n",
       "      <th>top</th>\n",
       "      <td>neg</td>\n",
       "      <td>NaN</td>\n",
       "      <td>NaN</td>\n",
       "      <td>NaN</td>\n",
       "      <td>NaN</td>\n",
       "      <td>NaN</td>\n",
       "      <td>NaN</td>\n",
       "      <td>NaN</td>\n",
       "      <td>NaN</td>\n",
       "      <td>NaN</td>\n",
       "      <td>...</td>\n",
       "      <td>NaN</td>\n",
       "      <td>NaN</td>\n",
       "      <td>NaN</td>\n",
       "      <td>NaN</td>\n",
       "      <td>NaN</td>\n",
       "      <td>NaN</td>\n",
       "      <td>NaN</td>\n",
       "      <td>NaN</td>\n",
       "      <td>NaN</td>\n",
       "      <td>NaN</td>\n",
       "    </tr>\n",
       "    <tr>\n",
       "      <th>freq</th>\n",
       "      <td>59000</td>\n",
       "      <td>NaN</td>\n",
       "      <td>NaN</td>\n",
       "      <td>NaN</td>\n",
       "      <td>NaN</td>\n",
       "      <td>NaN</td>\n",
       "      <td>NaN</td>\n",
       "      <td>NaN</td>\n",
       "      <td>NaN</td>\n",
       "      <td>NaN</td>\n",
       "      <td>...</td>\n",
       "      <td>NaN</td>\n",
       "      <td>NaN</td>\n",
       "      <td>NaN</td>\n",
       "      <td>NaN</td>\n",
       "      <td>NaN</td>\n",
       "      <td>NaN</td>\n",
       "      <td>NaN</td>\n",
       "      <td>NaN</td>\n",
       "      <td>NaN</td>\n",
       "      <td>NaN</td>\n",
       "    </tr>\n",
       "    <tr>\n",
       "      <th>mean</th>\n",
       "      <td>NaN</td>\n",
       "      <td>5.933650e+04</td>\n",
       "      <td>0.713189</td>\n",
       "      <td>3.560143e+08</td>\n",
       "      <td>1.906206e+05</td>\n",
       "      <td>6.819130</td>\n",
       "      <td>11.006817</td>\n",
       "      <td>2.216364e+02</td>\n",
       "      <td>9.757223e+02</td>\n",
       "      <td>8.606015e+03</td>\n",
       "      <td>...</td>\n",
       "      <td>4.454897e+05</td>\n",
       "      <td>2.111264e+05</td>\n",
       "      <td>4.457343e+05</td>\n",
       "      <td>3.939462e+05</td>\n",
       "      <td>3.330582e+05</td>\n",
       "      <td>3.462714e+05</td>\n",
       "      <td>1.387300e+05</td>\n",
       "      <td>8.388915e+03</td>\n",
       "      <td>0.090579</td>\n",
       "      <td>0.212756</td>\n",
       "    </tr>\n",
       "    <tr>\n",
       "      <th>std</th>\n",
       "      <td>NaN</td>\n",
       "      <td>1.454301e+05</td>\n",
       "      <td>3.478962</td>\n",
       "      <td>7.948749e+08</td>\n",
       "      <td>4.040441e+07</td>\n",
       "      <td>161.543373</td>\n",
       "      <td>209.792592</td>\n",
       "      <td>2.047846e+04</td>\n",
       "      <td>3.420053e+04</td>\n",
       "      <td>1.503220e+05</td>\n",
       "      <td>...</td>\n",
       "      <td>1.155540e+06</td>\n",
       "      <td>5.433188e+05</td>\n",
       "      <td>1.168314e+06</td>\n",
       "      <td>1.121044e+06</td>\n",
       "      <td>1.069160e+06</td>\n",
       "      <td>1.728056e+06</td>\n",
       "      <td>4.495100e+05</td>\n",
       "      <td>4.747043e+04</td>\n",
       "      <td>4.368855</td>\n",
       "      <td>8.830641</td>\n",
       "    </tr>\n",
       "    <tr>\n",
       "      <th>min</th>\n",
       "      <td>NaN</td>\n",
       "      <td>0.000000e+00</td>\n",
       "      <td>0.000000</td>\n",
       "      <td>0.000000e+00</td>\n",
       "      <td>0.000000e+00</td>\n",
       "      <td>0.000000</td>\n",
       "      <td>0.000000</td>\n",
       "      <td>0.000000e+00</td>\n",
       "      <td>0.000000e+00</td>\n",
       "      <td>0.000000e+00</td>\n",
       "      <td>...</td>\n",
       "      <td>0.000000e+00</td>\n",
       "      <td>0.000000e+00</td>\n",
       "      <td>0.000000e+00</td>\n",
       "      <td>0.000000e+00</td>\n",
       "      <td>0.000000e+00</td>\n",
       "      <td>0.000000e+00</td>\n",
       "      <td>0.000000e+00</td>\n",
       "      <td>0.000000e+00</td>\n",
       "      <td>0.000000</td>\n",
       "      <td>0.000000</td>\n",
       "    </tr>\n",
       "    <tr>\n",
       "      <th>25%</th>\n",
       "      <td>NaN</td>\n",
       "      <td>8.340000e+02</td>\n",
       "      <td>0.000000</td>\n",
       "      <td>1.600000e+01</td>\n",
       "      <td>2.400000e+01</td>\n",
       "      <td>0.000000</td>\n",
       "      <td>0.000000</td>\n",
       "      <td>0.000000e+00</td>\n",
       "      <td>0.000000e+00</td>\n",
       "      <td>0.000000e+00</td>\n",
       "      <td>...</td>\n",
       "      <td>2.936000e+03</td>\n",
       "      <td>1.166000e+03</td>\n",
       "      <td>2.700000e+03</td>\n",
       "      <td>3.584000e+03</td>\n",
       "      <td>5.120000e+02</td>\n",
       "      <td>1.100000e+02</td>\n",
       "      <td>0.000000e+00</td>\n",
       "      <td>0.000000e+00</td>\n",
       "      <td>0.000000</td>\n",
       "      <td>0.000000</td>\n",
       "    </tr>\n",
       "    <tr>\n",
       "      <th>50%</th>\n",
       "      <td>NaN</td>\n",
       "      <td>3.077600e+04</td>\n",
       "      <td>0.000000</td>\n",
       "      <td>1.520000e+02</td>\n",
       "      <td>1.260000e+02</td>\n",
       "      <td>0.000000</td>\n",
       "      <td>0.000000</td>\n",
       "      <td>0.000000e+00</td>\n",
       "      <td>0.000000e+00</td>\n",
       "      <td>0.000000e+00</td>\n",
       "      <td>...</td>\n",
       "      <td>2.337960e+05</td>\n",
       "      <td>1.120860e+05</td>\n",
       "      <td>2.215180e+05</td>\n",
       "      <td>1.899880e+05</td>\n",
       "      <td>9.243200e+04</td>\n",
       "      <td>4.109800e+04</td>\n",
       "      <td>3.812000e+03</td>\n",
       "      <td>0.000000e+00</td>\n",
       "      <td>0.000000</td>\n",
       "      <td>0.000000</td>\n",
       "    </tr>\n",
       "    <tr>\n",
       "      <th>75%</th>\n",
       "      <td>NaN</td>\n",
       "      <td>4.866800e+04</td>\n",
       "      <td>0.000000</td>\n",
       "      <td>9.640000e+02</td>\n",
       "      <td>4.300000e+02</td>\n",
       "      <td>0.000000</td>\n",
       "      <td>0.000000</td>\n",
       "      <td>0.000000e+00</td>\n",
       "      <td>0.000000e+00</td>\n",
       "      <td>0.000000e+00</td>\n",
       "      <td>...</td>\n",
       "      <td>4.383960e+05</td>\n",
       "      <td>2.182320e+05</td>\n",
       "      <td>4.666140e+05</td>\n",
       "      <td>4.032220e+05</td>\n",
       "      <td>2.750940e+05</td>\n",
       "      <td>1.678140e+05</td>\n",
       "      <td>1.397240e+05</td>\n",
       "      <td>2.028000e+03</td>\n",
       "      <td>0.000000</td>\n",
       "      <td>0.000000</td>\n",
       "    </tr>\n",
       "    <tr>\n",
       "      <th>max</th>\n",
       "      <td>NaN</td>\n",
       "      <td>2.746564e+06</td>\n",
       "      <td>204.000000</td>\n",
       "      <td>2.130707e+09</td>\n",
       "      <td>8.584298e+09</td>\n",
       "      <td>21050.000000</td>\n",
       "      <td>20070.000000</td>\n",
       "      <td>3.376892e+06</td>\n",
       "      <td>4.109372e+06</td>\n",
       "      <td>1.055286e+07</td>\n",
       "      <td>...</td>\n",
       "      <td>7.793393e+07</td>\n",
       "      <td>3.775839e+07</td>\n",
       "      <td>9.715238e+07</td>\n",
       "      <td>5.743524e+07</td>\n",
       "      <td>3.160781e+07</td>\n",
       "      <td>1.195801e+08</td>\n",
       "      <td>1.926740e+07</td>\n",
       "      <td>3.810078e+06</td>\n",
       "      <td>482.000000</td>\n",
       "      <td>1146.000000</td>\n",
       "    </tr>\n",
       "  </tbody>\n",
       "</table>\n",
       "<p>11 rows × 171 columns</p>\n",
       "</div>"
      ],
      "text/plain": [
       "        class        aa_000        ab_000        ac_000        ad_000  \\\n",
       "count   60000  6.000000e+04  13671.000000  5.666500e+04  4.513900e+04   \n",
       "unique      2           NaN           NaN           NaN           NaN   \n",
       "top       neg           NaN           NaN           NaN           NaN   \n",
       "freq    59000           NaN           NaN           NaN           NaN   \n",
       "mean      NaN  5.933650e+04      0.713189  3.560143e+08  1.906206e+05   \n",
       "std       NaN  1.454301e+05      3.478962  7.948749e+08  4.040441e+07   \n",
       "min       NaN  0.000000e+00      0.000000  0.000000e+00  0.000000e+00   \n",
       "25%       NaN  8.340000e+02      0.000000  1.600000e+01  2.400000e+01   \n",
       "50%       NaN  3.077600e+04      0.000000  1.520000e+02  1.260000e+02   \n",
       "75%       NaN  4.866800e+04      0.000000  9.640000e+02  4.300000e+02   \n",
       "max       NaN  2.746564e+06    204.000000  2.130707e+09  8.584298e+09   \n",
       "\n",
       "              ae_000        af_000        ag_000        ag_001        ag_002  \\\n",
       "count   57500.000000  57500.000000  5.932900e+04  5.932900e+04  5.932900e+04   \n",
       "unique           NaN           NaN           NaN           NaN           NaN   \n",
       "top              NaN           NaN           NaN           NaN           NaN   \n",
       "freq             NaN           NaN           NaN           NaN           NaN   \n",
       "mean        6.819130     11.006817  2.216364e+02  9.757223e+02  8.606015e+03   \n",
       "std       161.543373    209.792592  2.047846e+04  3.420053e+04  1.503220e+05   \n",
       "min         0.000000      0.000000  0.000000e+00  0.000000e+00  0.000000e+00   \n",
       "25%         0.000000      0.000000  0.000000e+00  0.000000e+00  0.000000e+00   \n",
       "50%         0.000000      0.000000  0.000000e+00  0.000000e+00  0.000000e+00   \n",
       "75%         0.000000      0.000000  0.000000e+00  0.000000e+00  0.000000e+00   \n",
       "max     21050.000000  20070.000000  3.376892e+06  4.109372e+06  1.055286e+07   \n",
       "\n",
       "        ...        ee_002        ee_003        ee_004        ee_005  \\\n",
       "count   ...  5.932900e+04  5.932900e+04  5.932900e+04  5.932900e+04   \n",
       "unique  ...           NaN           NaN           NaN           NaN   \n",
       "top     ...           NaN           NaN           NaN           NaN   \n",
       "freq    ...           NaN           NaN           NaN           NaN   \n",
       "mean    ...  4.454897e+05  2.111264e+05  4.457343e+05  3.939462e+05   \n",
       "std     ...  1.155540e+06  5.433188e+05  1.168314e+06  1.121044e+06   \n",
       "min     ...  0.000000e+00  0.000000e+00  0.000000e+00  0.000000e+00   \n",
       "25%     ...  2.936000e+03  1.166000e+03  2.700000e+03  3.584000e+03   \n",
       "50%     ...  2.337960e+05  1.120860e+05  2.215180e+05  1.899880e+05   \n",
       "75%     ...  4.383960e+05  2.182320e+05  4.666140e+05  4.032220e+05   \n",
       "max     ...  7.793393e+07  3.775839e+07  9.715238e+07  5.743524e+07   \n",
       "\n",
       "              ee_006        ee_007        ee_008        ee_009        ef_000  \\\n",
       "count   5.932900e+04  5.932900e+04  5.932900e+04  5.932900e+04  57276.000000   \n",
       "unique           NaN           NaN           NaN           NaN           NaN   \n",
       "top              NaN           NaN           NaN           NaN           NaN   \n",
       "freq             NaN           NaN           NaN           NaN           NaN   \n",
       "mean    3.330582e+05  3.462714e+05  1.387300e+05  8.388915e+03      0.090579   \n",
       "std     1.069160e+06  1.728056e+06  4.495100e+05  4.747043e+04      4.368855   \n",
       "min     0.000000e+00  0.000000e+00  0.000000e+00  0.000000e+00      0.000000   \n",
       "25%     5.120000e+02  1.100000e+02  0.000000e+00  0.000000e+00      0.000000   \n",
       "50%     9.243200e+04  4.109800e+04  3.812000e+03  0.000000e+00      0.000000   \n",
       "75%     2.750940e+05  1.678140e+05  1.397240e+05  2.028000e+03      0.000000   \n",
       "max     3.160781e+07  1.195801e+08  1.926740e+07  3.810078e+06    482.000000   \n",
       "\n",
       "              eg_000  \n",
       "count   57277.000000  \n",
       "unique           NaN  \n",
       "top              NaN  \n",
       "freq             NaN  \n",
       "mean        0.212756  \n",
       "std         8.830641  \n",
       "min         0.000000  \n",
       "25%         0.000000  \n",
       "50%         0.000000  \n",
       "75%         0.000000  \n",
       "max      1146.000000  \n",
       "\n",
       "[11 rows x 171 columns]"
      ]
     },
     "execution_count": 7,
     "metadata": {},
     "output_type": "execute_result"
    }
   ],
   "source": [
    "train.describe(include='all')\n",
    "\n",
    "\n"
   ]
  },
  {
   "cell_type": "code",
   "execution_count": 8,
   "metadata": {},
   "outputs": [
    {
     "name": "stdout",
     "output_type": "stream",
     "text": [
      "Total number of Train datapoints:  60000\n",
      "Total number of features:  171\n",
      "The column/feature names given are:\n",
      "  ['class', 'aa_000', 'ab_000', 'ac_000', 'ad_000', 'ae_000', 'af_000', 'ag_000', 'ag_001', 'ag_002', 'ag_003', 'ag_004', 'ag_005', 'ag_006', 'ag_007', 'ag_008', 'ag_009', 'ah_000', 'ai_000', 'aj_000', 'ak_000', 'al_000', 'am_0', 'an_000', 'ao_000', 'ap_000', 'aq_000', 'ar_000', 'as_000', 'at_000', 'au_000', 'av_000', 'ax_000', 'ay_000', 'ay_001', 'ay_002', 'ay_003', 'ay_004', 'ay_005', 'ay_006', 'ay_007', 'ay_008', 'ay_009', 'az_000', 'az_001', 'az_002', 'az_003', 'az_004', 'az_005', 'az_006', 'az_007', 'az_008', 'az_009', 'ba_000', 'ba_001', 'ba_002', 'ba_003', 'ba_004', 'ba_005', 'ba_006', 'ba_007', 'ba_008', 'ba_009', 'bb_000', 'bc_000', 'bd_000', 'be_000', 'bf_000', 'bg_000', 'bh_000', 'bi_000', 'bj_000', 'bk_000', 'bl_000', 'bm_000', 'bn_000', 'bo_000', 'bp_000', 'bq_000', 'br_000', 'bs_000', 'bt_000', 'bu_000', 'bv_000', 'bx_000', 'by_000', 'bz_000', 'ca_000', 'cb_000', 'cc_000', 'cd_000', 'ce_000', 'cf_000', 'cg_000', 'ch_000', 'ci_000', 'cj_000', 'ck_000', 'cl_000', 'cm_000', 'cn_000', 'cn_001', 'cn_002', 'cn_003', 'cn_004', 'cn_005', 'cn_006', 'cn_007', 'cn_008', 'cn_009', 'co_000', 'cp_000', 'cq_000', 'cr_000', 'cs_000', 'cs_001', 'cs_002', 'cs_003', 'cs_004', 'cs_005', 'cs_006', 'cs_007', 'cs_008', 'cs_009', 'ct_000', 'cu_000', 'cv_000', 'cx_000', 'cy_000', 'cz_000', 'da_000', 'db_000', 'dc_000', 'dd_000', 'de_000', 'df_000', 'dg_000', 'dh_000', 'di_000', 'dj_000', 'dk_000', 'dl_000', 'dm_000', 'dn_000', 'do_000', 'dp_000', 'dq_000', 'dr_000', 'ds_000', 'dt_000', 'du_000', 'dv_000', 'dx_000', 'dy_000', 'dz_000', 'ea_000', 'eb_000', 'ec_00', 'ed_000', 'ee_000', 'ee_001', 'ee_002', 'ee_003', 'ee_004', 'ee_005', 'ee_006', 'ee_007', 'ee_008', 'ee_009', 'ef_000', 'eg_000']\n"
     ]
    }
   ],
   "source": [
    "print(\"Total number of Train datapoints: \",train.shape[0])\n",
    "print(\"Total number of features: \",train.shape[1])\n",
    "\n",
    "print(\"The column/feature names given are:\\n \",list(train.columns))"
   ]
  },
  {
   "cell_type": "markdown",
   "metadata": {},
   "source": [
    "Observation- We know from these fetures have been "
   ]
  },
  {
   "cell_type": "code",
   "execution_count": 9,
   "metadata": {},
   "outputs": [
    {
     "name": "stdout",
     "output_type": "stream",
     "text": [
      "<class 'pandas.core.frame.DataFrame'>\n",
      "RangeIndex: 60000 entries, 0 to 59999\n",
      "Columns: 171 entries, class to eg_000\n",
      "dtypes: float64(169), int64(1), object(1)\n",
      "memory usage: 78.3+ MB\n"
     ]
    }
   ],
   "source": [
    "train.info()"
   ]
  },
  {
   "cell_type": "markdown",
   "metadata": {},
   "source": [
    "Observation - we can see from our descriptive stats there are a number of issuses. With 60,000 attribures and 171 features we have a high dimensional dataset. We can a high amount of missing values which need to be dealt with prior to machine learning"
   ]
  },
  {
   "cell_type": "markdown",
   "metadata": {},
   "source": [
    "# Discover & Visualize Data to Gain Insights"
   ]
  },
  {
   "cell_type": "code",
   "execution_count": 10,
   "metadata": {},
   "outputs": [
    {
     "data": {
      "text/plain": [
       "(60000, 170)"
      ]
     },
     "execution_count": 10,
     "metadata": {},
     "output_type": "execute_result"
    }
   ],
   "source": [
    "constant_features=[col for col in train.columns if train[col].nunique()==1]\n",
    "train.drop(columns=constant_features, inplace=True)\n",
    "train.shape"
   ]
  },
  {
   "cell_type": "markdown",
   "metadata": {},
   "source": [
    "Observation we have used the function to remove single value features as these are features with the values are not useful to us. We can see we have reduce our featues by 11 columns."
   ]
  },
  {
   "cell_type": "code",
   "execution_count": 11,
   "metadata": {},
   "outputs": [
    {
     "name": "stdout",
     "output_type": "stream",
     "text": [
      "['neg' 'pos']\n",
      "[0 1]\n"
     ]
    }
   ],
   "source": [
    "def get_correct_label(y):\n",
    "    \"\"\"\n",
    "    This function converts the class labels\n",
    "    from 'neg' and 'pos' to 0 and 1 respectively\n",
    "    \"\"\"\n",
    "    return y.replace(['neg', 'pos'], [0, 1])\n",
    "\n",
    "print(train['class'].unique())  # Print unique values in the 'class' column\n",
    "train['class'] = get_correct_label(train['class'])\n",
    "print(train['class'].unique())  # Print unique values in the 'class' column after conversion\n"
   ]
  },
  {
   "cell_type": "code",
   "execution_count": 12,
   "metadata": {},
   "outputs": [
    {
     "name": "stdout",
     "output_type": "stream",
     "text": [
      "[0 1]\n",
      "[0 1]\n"
     ]
    }
   ],
   "source": [
    "def get_correct_label(y):\n",
    "    \"\"\"\n",
    "    This function converts the class labels\n",
    "    from 'neg' and 'pos' to 0 and 1 respectively\n",
    "    \"\"\"\n",
    "    return y.replace(['neg','pos'],[0,1])\n",
    "\n",
    "print(train['class'].unique())\n",
    "train['class'] = get_correct_label(train['class'])\n",
    "print(train['class'].unique())"
   ]
  },
  {
   "cell_type": "code",
   "execution_count": 13,
   "metadata": {},
   "outputs": [
    {
     "data": {
      "text/plain": [
       "class\n",
       "0    59000\n",
       "1     1000\n",
       "Name: count, dtype: int64"
      ]
     },
     "execution_count": 13,
     "metadata": {},
     "output_type": "execute_result"
    }
   ],
   "source": [
    "train['class'].value_counts()"
   ]
  },
  {
   "cell_type": "code",
   "execution_count": 14,
   "metadata": {},
   "outputs": [
    {
     "data": {
      "image/png": "[encoded data removed]",
      "text/plain": [
       "<Figure size 576x288 with 1 Axes>"
      ]
     },
     "metadata": {
      "needs_background": "light"
     },
     "output_type": "display_data"
    },
    {
     "name": "stdout",
     "output_type": "stream",
     "text": [
      "The number of positive class points is:  1000\n",
      "The number of negative class points is:  59000\n"
     ]
    }
   ],
   "source": [
    "plt.figure(figsize=(8,4))\n",
    "sns.barplot(train['class'].unique(),train['class'].value_counts())\n",
    "plt.title('Class Label Distribution')\n",
    "plt.xlabel('Class Label')\n",
    "plt.ylabel('Count')\n",
    "plt.show()\n",
    "\n",
    "print('The number of positive class points is: ',train['class'].value_counts()[1])\n",
    "print('The number of negative class points is: ',train['class'].value_counts()[0])"
   ]
  },
  {
   "cell_type": "markdown",
   "metadata": {},
   "source": [
    "Observation- we can observe we have an unbalanced class labels. We can deal with this in different we can use an undersampling, oversampling methods. we could use Smote to syntically increas our postive class. Another method we can use is to increase out thesholds to insure the model will only select a negative class if is sure it is only negative."
   ]
  },
  {
   "cell_type": "markdown",
   "metadata": {},
   "source": [
    "# Handling Misssing Values"
   ]
  },
  {
   "cell_type": "markdown",
   "metadata": {},
   "source": [
    "we have previously observed a high degree amount of missingness in our data.We have a number of options open to us, we could drop the missing data.impute with the mean or use knn nearest neighbours to deal with our missing data."
   ]
  },
  {
   "cell_type": "code",
   "execution_count": 15,
   "metadata": {},
   "outputs": [],
   "source": [
    "# Creating a dictionary whose keys are the column names and values are the percentage of missing values\n",
    "nan_count = {k:(v / train.shape[0])*100 for k,v in train.isna().sum().items()}\n",
    "# Sorting the dictionary in descending order based on the percentage of missing values\n",
    "nan_count = {k: v for k, v in sorted(nan_count.items(), key=lambda item: item[1],reverse=True)}"
   ]
  },
  {
   "cell_type": "code",
   "execution_count": 16,
   "metadata": {},
   "outputs": [
    {
     "data": {
      "image/png": "[encoded data removed]",
      "text/plain": [
       "<Figure size 1440x720 with 1 Axes>"
      ]
     },
     "metadata": {},
     "output_type": "display_data"
    }
   ],
   "source": [
    "# Plotting a graph showing the top 15 features having highest percentage of missing values \n",
    "sns.set_style(style=\"whitegrid\")\n",
    "plt.figure(figsize=(20,10))\n",
    "\n",
    "# Bar Plot\n",
    "plot = sns.barplot(x= list(nan_count.keys())[:15],y = list(nan_count.values())[:15],palette=\"hls\")\n",
    "\n",
    "# Add annotations above each bar signifying their value\n",
    "for p in plot.patches:\n",
    "        plot.annotate('{:.1f}%'.format(p.get_height()), (p.get_x()+0.2, p.get_height()+1))\n",
    "\n",
    "# Make y-axis more interpretable\n",
    "plot.set_yticklabels(map('{:.1f}%'.format, plot.yaxis.get_majorticklocs())) \n",
    "plt.title('Features Missing Values',fontsize=20)\n",
    "plt.ylabel(\" % of missingness\", fontsize=16)\n",
    "plt.xlabel('Features',fontsize=16)\n",
    "plt.show()"
   ]
  },
  {
   "cell_type": "markdown",
   "metadata": {},
   "source": [
    "Rithwik Shetty,2021. Predicting a Failure in Scania’s Air Pressure System..Available at: https://medium.com/towards-data-science/predicting-a-failure-in-scanias-air-pressure-system-aps-c260bcc4d038 [Accesed] 27-10-2023]"
   ]
  },
  {
   "cell_type": "markdown",
   "metadata": {},
   "source": [
    "Observation We can see from the above graph that are features over 50% missing values we will need to deal them before we to our machine model"
   ]
  },
  {
   "cell_type": "code",
   "execution_count": 17,
   "metadata": {},
   "outputs": [],
   "source": [
    "def remove_na(train,nan_feat_threshold=0.05,col_threshold=0.7):\n",
    "    nan_count=train.isna().mean()\n",
    "    nan_feat=nan_count[nan_count < nan_feat_threshold].index\n",
    "    train=train.dropna(subset=nan_feat)\n",
    "    train=train.dropna(axis=1, thresh=col_threshold * train.shape[0])\n",
    "    train=train.reset_index(drop=True)\n",
    "    return train\n",
    "\n",
    "cleaned_df=remove_na(train,nan_feat_threshold= 0.05, col_threshold=0.7)\n",
    "\n"
   ]
  },
  {
   "cell_type": "code",
   "execution_count": 18,
   "metadata": {},
   "outputs": [
    {
     "data": {
      "image/png": "[encoded data removed]",
      "text/plain": [
       "<Figure size 1152x576 with 1 Axes>"
      ]
     },
     "metadata": {},
     "output_type": "display_data"
    }
   ],
   "source": [
    "# Plotting a graph showing the top 15 features having highest percentage of missing values \n",
    "nan_count_cleaned=cleaned_df.isna().mean()* 100\n",
    "top_nan_count_cleaned= nan_count_cleaned.sort_values(ascending=False).head(15)\n",
    "\n",
    "sns.set_style(style=\"whitegrid\")\n",
    "plt.figure(figsize=(16,8))\n",
    "\n",
    "# Bar Plot\n",
    "plot = sns.barplot(x=top_nan_count_cleaned.index, y=top_nan_count_cleaned.values,palette=\"hls\")\n",
    "\n",
    "# Add annotations above each bar signifying their value\n",
    "for p in plot.patches:\n",
    "        plot.annotate('{:.1f}%'.format(p.get_height()), (p.get_x()+0.2, p.get_height()+1))\n",
    "\n",
    "# Make y-axis more interpretable\n",
    "plot.set_yticklabels(map('{:.1f}%'.format, plot.yaxis.get_majorticklocs())) \n",
    "plt.title('Features Missing Values',fontsize=20)\n",
    "plt.ylabel(\" % of missingness\", fontsize=16)\n",
    "plt.xlabel('Features',fontsize=16)\n",
    "plt.show()"
   ]
  },
  {
   "cell_type": "markdown",
   "metadata": {},
   "source": [
    "Observation we have removed fetures with over 70% missing values and under 5% missing values. The reaso for this if a feature has over 70% of data issing it is not any good to us and if data has only 5% data it will be difficult for any imputation to work. We will impute the rest of the missing data using k nearest neighbours prior to implenting PCA."
   ]
  },
  {
   "cell_type": "code",
   "execution_count": 19,
   "metadata": {},
   "outputs": [
    {
     "name": "stdout",
     "output_type": "stream",
     "text": [
      "   class   aa_000     ab_000        ac_000         ad_000  ae_000  af_000  \\\n",
      "0    0.0  76698.0  13.273626  2.130706e+09     280.000000     0.0     0.0   \n",
      "1    0.0  33058.0  29.447863  0.000000e+00  191777.195723     0.0     0.0   \n",
      "2    0.0  41040.0   2.733367  2.280000e+02     100.000000     0.0     0.0   \n",
      "3    0.0     12.0   0.000000  7.000000e+01      66.000000     0.0    10.0   \n",
      "4    0.0  60874.0  -5.774479  1.368000e+03     458.000000     0.0     0.0   \n",
      "\n",
      "   ag_000  ag_001  ag_002  ...     ee_002    ee_003    ee_004    ee_005  \\\n",
      "0     0.0     0.0     0.0  ...  1240520.0  493384.0  721044.0  469792.0   \n",
      "1     0.0     0.0     0.0  ...   421400.0  178064.0  293306.0  245416.0   \n",
      "2     0.0     0.0     0.0  ...   277378.0  159812.0  423992.0  409564.0   \n",
      "3     0.0     0.0     0.0  ...      240.0      46.0      58.0      44.0   \n",
      "4     0.0     0.0     0.0  ...   622012.0  229790.0  405298.0  347188.0   \n",
      "\n",
      "     ee_006    ee_007    ee_008  ee_009  ef_000  eg_000  \n",
      "0  339156.0  157956.0   73224.0     0.0     0.0     0.0  \n",
      "1  133654.0   81140.0   97576.0  1500.0     0.0     0.0  \n",
      "2  320746.0  158022.0   95128.0   514.0     0.0     0.0  \n",
      "3      10.0       0.0       0.0     0.0     4.0    32.0  \n",
      "4  286954.0  311560.0  433954.0  1218.0     0.0     0.0  \n",
      "\n",
      "[5 rows x 170 columns]\n",
      "              class        aa_000        ab_000        ac_000        ad_000  \\\n",
      "count  60000.000000  6.000000e+04  6.000000e+04  6.000000e+04  6.000000e+04   \n",
      "mean       0.016667  5.933650e+04 -4.177815e-01  4.812999e+08  1.901959e+05   \n",
      "std        0.128020  1.454301e+05  4.464353e+05  2.269710e+10  3.504517e+07   \n",
      "min        0.000000  0.000000e+00 -5.823734e+07 -3.726370e+10 -6.383825e+06   \n",
      "25%        0.000000  8.340000e+02  0.000000e+00  1.600000e+01  4.200000e+01   \n",
      "50%        0.000000  3.077600e+04  8.292937e-01  1.720000e+02  2.880000e+02   \n",
      "75%        0.000000  4.866800e+04  3.911148e+00  1.400000e+03  8.214500e+03   \n",
      "max        1.000000  2.746564e+06  1.814199e+07  4.100243e+12  8.584298e+09   \n",
      "\n",
      "              ae_000         af_000        ag_000        ag_001        ag_002  \\\n",
      "count   60000.000000   60000.000000  6.000000e+04  6.000000e+04  6.000000e+04   \n",
      "mean        4.415365       8.389190  1.501939e+02  9.757088e+02  8.606018e+03   \n",
      "std       970.416380    1368.738502  2.261848e+04  3.400875e+04  1.494791e+05   \n",
      "min   -143592.025920 -195309.492931 -1.760904e+06  0.000000e+00  0.000000e+00   \n",
      "25%         0.000000       0.000000  0.000000e+00  0.000000e+00  0.000000e+00   \n",
      "50%         0.000000       0.000000  0.000000e+00  0.000000e+00  0.000000e+00   \n",
      "75%         0.000000       0.000000  0.000000e+00  0.000000e+00  0.000000e+00   \n",
      "max    131438.987438  199728.548814  3.376892e+06  4.109372e+06  1.055286e+07   \n",
      "\n",
      "       ...        ee_002        ee_003        ee_004        ee_005  \\\n",
      "count  ...  6.000000e+04  6.000000e+04  6.000000e+04  6.000000e+04   \n",
      "mean   ...  4.454903e+05  2.111261e+05  4.457347e+05  3.939457e+05   \n",
      "std    ...  1.149060e+06  5.402722e+05  1.161763e+06  1.114758e+06   \n",
      "min    ...  0.000000e+00  0.000000e+00  0.000000e+00  0.000000e+00   \n",
      "25%    ...  3.033500e+03  1.204000e+03  2.848500e+03  3.839000e+03   \n",
      "50%    ...  2.397270e+05  1.148530e+05  2.283220e+05  1.960600e+05   \n",
      "75%    ...  4.454888e+05  2.164440e+05  4.624655e+05  4.003010e+05   \n",
      "max    ...  7.793393e+07  3.775839e+07  9.715238e+07  5.743524e+07   \n",
      "\n",
      "             ee_006        ee_007        ee_008        ee_009        ef_000  \\\n",
      "count  6.000000e+04  6.000000e+04  6.000000e+04  6.000000e+04  60000.000000   \n",
      "mean   3.330591e+05  3.462709e+05  1.387299e+05  8.388994e+03     -0.147452   \n",
      "std    1.063164e+06  1.718366e+06  4.469894e+05  4.720424e+04     73.378329   \n",
      "min    0.000000e+00  0.000000e+00  0.000000e+00  0.000000e+00 -13258.839658   \n",
      "25%    5.600000e+02  1.180000e+02  0.000000e+00  0.000000e+00      0.000000   \n",
      "50%    9.976600e+04  4.358700e+04  4.474000e+03  0.000000e+00      0.000000   \n",
      "75%    2.833455e+05  1.732245e+05  1.387302e+05  2.366000e+03      0.000000   \n",
      "max    3.160781e+07  1.195801e+08  1.926740e+07  3.810078e+06    639.213669   \n",
      "\n",
      "             eg_000  \n",
      "count  60000.000000  \n",
      "mean      -0.188860  \n",
      "std      165.420559  \n",
      "min   -29758.058226  \n",
      "25%        0.000000  \n",
      "50%        0.000000  \n",
      "75%        0.000000  \n",
      "max     4285.407990  \n",
      "\n",
      "[8 rows x 170 columns]\n"
     ]
    }
   ],
   "source": [
    "from sklearn.impute import SimpleImputer\n",
    "from sklearn.experimental import enable_iterative_imputer\n",
    "from sklearn.impute import IterativeImputer\n",
    "from sklearn.linear_model import Ridge\n",
    "import numpy as np\n",
    "\n",
    "def imputation(train, mis_col):\n",
    "    \"\"\"\n",
    "    This function imputes Missing values \n",
    "    using Median on given features, and\n",
    "    Model-Based Imputation on the rest\n",
    "    \"\"\"\n",
    "    \n",
    "    # Using sklearn's SimpleImputer\n",
    "    median_imputer = SimpleImputer(missing_values=np.NaN, strategy='median', copy=True)\n",
    "    median_df = median_imputer.fit_transform(train[mis_col])\n",
    "    train1 = train.copy()\n",
    "    train1[mis_col] = median_df\n",
    "\n",
    "    # Performing Model-Based Imputation\n",
    "    mice_imputer = IterativeImputer(estimator=Ridge(random_state=0), random_state=0)\n",
    "    imputed_df = pd.DataFrame(data=mice_imputer.fit_transform(train), columns=train1.columns)\n",
    "\n",
    "    return imputed_df, median_imputer, mice_imputer\n",
    "\n",
    "# List of feature names that have missing values between 5% to 15%.\n",
    "# We will impute the missing values in features with their median\n",
    "median_imputed_features = [k for k, v in nan_count.items() if v >= 5 and v < 15]\n",
    "\n",
    "# Example usage of the imputation function:\n",
    "# imputed_train, median_imputer, mice_imputer = imputation(train, median_imputed_features)\n",
    "\n",
    "imputed_train, median_imputer, mice_imputer = imputation(train, median_imputed_features)\n",
    "\n",
    "# Print the first few rows of the imputed DataFrame to inspect the data\n",
    "print(imputed_train.head())\n",
    "\n",
    "# To see summary statistics of the DataFrame, you can use the describe() method\n",
    "print(imputed_train.describe())"
   ]
  },
  {
   "cell_type": "code",
   "execution_count": 20,
   "metadata": {},
   "outputs": [
    {
     "data": {
      "text/plain": [
       "(60000, 170)"
      ]
     },
     "execution_count": 20,
     "metadata": {},
     "output_type": "execute_result"
    }
   ],
   "source": [
    "imputed_train.shape"
   ]
  },
  {
   "cell_type": "code",
   "execution_count": 21,
   "metadata": {},
   "outputs": [
    {
     "name": "stdout",
     "output_type": "stream",
     "text": [
      "class     0\n",
      "aa_000    0\n",
      "ab_000    0\n",
      "ac_000    0\n",
      "ad_000    0\n",
      "         ..\n",
      "ee_007    0\n",
      "ee_008    0\n",
      "ee_009    0\n",
      "ef_000    0\n",
      "eg_000    0\n",
      "Length: 170, dtype: int64\n"
     ]
    }
   ],
   "source": [
    "missing_counts=imputed_train.isnull().sum()\n",
    "print(missing_counts)"
   ]
  },
  {
   "cell_type": "code",
   "execution_count": 22,
   "metadata": {},
   "outputs": [
    {
     "data": {
      "text/html": [
       "<div>\n",
       "<style scoped>\n",
       "    .dataframe tbody tr th:only-of-type {\n",
       "        vertical-align: middle;\n",
       "    }\n",
       "\n",
       "    .dataframe tbody tr th {\n",
       "        vertical-align: top;\n",
       "    }\n",
       "\n",
       "    .dataframe thead th {\n",
       "        text-align: right;\n",
       "    }\n",
       "</style>\n",
       "<table border=\"1\" class=\"dataframe\">\n",
       "  <thead>\n",
       "    <tr style=\"text-align: right;\">\n",
       "      <th></th>\n",
       "      <th>class</th>\n",
       "      <th>aa_000</th>\n",
       "      <th>ab_000</th>\n",
       "      <th>ac_000</th>\n",
       "      <th>ad_000</th>\n",
       "      <th>ae_000</th>\n",
       "      <th>af_000</th>\n",
       "      <th>ag_000</th>\n",
       "      <th>ag_001</th>\n",
       "      <th>ag_002</th>\n",
       "      <th>...</th>\n",
       "      <th>ee_002</th>\n",
       "      <th>ee_003</th>\n",
       "      <th>ee_004</th>\n",
       "      <th>ee_005</th>\n",
       "      <th>ee_006</th>\n",
       "      <th>ee_007</th>\n",
       "      <th>ee_008</th>\n",
       "      <th>ee_009</th>\n",
       "      <th>ef_000</th>\n",
       "      <th>eg_000</th>\n",
       "    </tr>\n",
       "  </thead>\n",
       "  <tbody>\n",
       "    <tr>\n",
       "      <th>0</th>\n",
       "      <td>0.0</td>\n",
       "      <td>76698.0</td>\n",
       "      <td>13.273626</td>\n",
       "      <td>2.130706e+09</td>\n",
       "      <td>280.000000</td>\n",
       "      <td>0.0</td>\n",
       "      <td>0.0</td>\n",
       "      <td>0.0</td>\n",
       "      <td>0.0</td>\n",
       "      <td>0.0</td>\n",
       "      <td>...</td>\n",
       "      <td>1240520.0</td>\n",
       "      <td>493384.0</td>\n",
       "      <td>721044.0</td>\n",
       "      <td>469792.0</td>\n",
       "      <td>339156.0</td>\n",
       "      <td>157956.0</td>\n",
       "      <td>73224.0</td>\n",
       "      <td>0.0</td>\n",
       "      <td>0.0</td>\n",
       "      <td>0.0</td>\n",
       "    </tr>\n",
       "    <tr>\n",
       "      <th>1</th>\n",
       "      <td>0.0</td>\n",
       "      <td>33058.0</td>\n",
       "      <td>29.447863</td>\n",
       "      <td>0.000000e+00</td>\n",
       "      <td>191777.195723</td>\n",
       "      <td>0.0</td>\n",
       "      <td>0.0</td>\n",
       "      <td>0.0</td>\n",
       "      <td>0.0</td>\n",
       "      <td>0.0</td>\n",
       "      <td>...</td>\n",
       "      <td>421400.0</td>\n",
       "      <td>178064.0</td>\n",
       "      <td>293306.0</td>\n",
       "      <td>245416.0</td>\n",
       "      <td>133654.0</td>\n",
       "      <td>81140.0</td>\n",
       "      <td>97576.0</td>\n",
       "      <td>1500.0</td>\n",
       "      <td>0.0</td>\n",
       "      <td>0.0</td>\n",
       "    </tr>\n",
       "    <tr>\n",
       "      <th>2</th>\n",
       "      <td>0.0</td>\n",
       "      <td>41040.0</td>\n",
       "      <td>2.733367</td>\n",
       "      <td>2.280000e+02</td>\n",
       "      <td>100.000000</td>\n",
       "      <td>0.0</td>\n",
       "      <td>0.0</td>\n",
       "      <td>0.0</td>\n",
       "      <td>0.0</td>\n",
       "      <td>0.0</td>\n",
       "      <td>...</td>\n",
       "      <td>277378.0</td>\n",
       "      <td>159812.0</td>\n",
       "      <td>423992.0</td>\n",
       "      <td>409564.0</td>\n",
       "      <td>320746.0</td>\n",
       "      <td>158022.0</td>\n",
       "      <td>95128.0</td>\n",
       "      <td>514.0</td>\n",
       "      <td>0.0</td>\n",
       "      <td>0.0</td>\n",
       "    </tr>\n",
       "    <tr>\n",
       "      <th>3</th>\n",
       "      <td>0.0</td>\n",
       "      <td>12.0</td>\n",
       "      <td>0.000000</td>\n",
       "      <td>7.000000e+01</td>\n",
       "      <td>66.000000</td>\n",
       "      <td>0.0</td>\n",
       "      <td>10.0</td>\n",
       "      <td>0.0</td>\n",
       "      <td>0.0</td>\n",
       "      <td>0.0</td>\n",
       "      <td>...</td>\n",
       "      <td>240.0</td>\n",
       "      <td>46.0</td>\n",
       "      <td>58.0</td>\n",
       "      <td>44.0</td>\n",
       "      <td>10.0</td>\n",
       "      <td>0.0</td>\n",
       "      <td>0.0</td>\n",
       "      <td>0.0</td>\n",
       "      <td>4.0</td>\n",
       "      <td>32.0</td>\n",
       "    </tr>\n",
       "    <tr>\n",
       "      <th>4</th>\n",
       "      <td>0.0</td>\n",
       "      <td>60874.0</td>\n",
       "      <td>-5.774479</td>\n",
       "      <td>1.368000e+03</td>\n",
       "      <td>458.000000</td>\n",
       "      <td>0.0</td>\n",
       "      <td>0.0</td>\n",
       "      <td>0.0</td>\n",
       "      <td>0.0</td>\n",
       "      <td>0.0</td>\n",
       "      <td>...</td>\n",
       "      <td>622012.0</td>\n",
       "      <td>229790.0</td>\n",
       "      <td>405298.0</td>\n",
       "      <td>347188.0</td>\n",
       "      <td>286954.0</td>\n",
       "      <td>311560.0</td>\n",
       "      <td>433954.0</td>\n",
       "      <td>1218.0</td>\n",
       "      <td>0.0</td>\n",
       "      <td>0.0</td>\n",
       "    </tr>\n",
       "  </tbody>\n",
       "</table>\n",
       "<p>5 rows × 170 columns</p>\n",
       "</div>"
      ],
      "text/plain": [
       "   class   aa_000     ab_000        ac_000         ad_000  ae_000  af_000  \\\n",
       "0    0.0  76698.0  13.273626  2.130706e+09     280.000000     0.0     0.0   \n",
       "1    0.0  33058.0  29.447863  0.000000e+00  191777.195723     0.0     0.0   \n",
       "2    0.0  41040.0   2.733367  2.280000e+02     100.000000     0.0     0.0   \n",
       "3    0.0     12.0   0.000000  7.000000e+01      66.000000     0.0    10.0   \n",
       "4    0.0  60874.0  -5.774479  1.368000e+03     458.000000     0.0     0.0   \n",
       "\n",
       "   ag_000  ag_001  ag_002  ...     ee_002    ee_003    ee_004    ee_005  \\\n",
       "0     0.0     0.0     0.0  ...  1240520.0  493384.0  721044.0  469792.0   \n",
       "1     0.0     0.0     0.0  ...   421400.0  178064.0  293306.0  245416.0   \n",
       "2     0.0     0.0     0.0  ...   277378.0  159812.0  423992.0  409564.0   \n",
       "3     0.0     0.0     0.0  ...      240.0      46.0      58.0      44.0   \n",
       "4     0.0     0.0     0.0  ...   622012.0  229790.0  405298.0  347188.0   \n",
       "\n",
       "     ee_006    ee_007    ee_008  ee_009  ef_000  eg_000  \n",
       "0  339156.0  157956.0   73224.0     0.0     0.0     0.0  \n",
       "1  133654.0   81140.0   97576.0  1500.0     0.0     0.0  \n",
       "2  320746.0  158022.0   95128.0   514.0     0.0     0.0  \n",
       "3      10.0       0.0       0.0     0.0     4.0    32.0  \n",
       "4  286954.0  311560.0  433954.0  1218.0     0.0     0.0  \n",
       "\n",
       "[5 rows x 170 columns]"
      ]
     },
     "execution_count": 22,
     "metadata": {},
     "output_type": "execute_result"
    }
   ],
   "source": [
    "imputed_train.head()\n"
   ]
  },
  {
   "cell_type": "code",
   "execution_count": 23,
   "metadata": {},
   "outputs": [],
   "source": [
    "train=imputed_train"
   ]
  },
  {
   "cell_type": "code",
   "execution_count": 46,
   "metadata": {},
   "outputs": [],
   "source": [
    "def top_important_features(imputed_train, labels, top_x=15, verbose=10):\n",
    "    '''\n",
    "        This function uses random forests to get feature importances of the features and returns top_x important features\n",
    "        and their feature importances.\n",
    "        Returns:\n",
    "            tuple of (features, importances).\n",
    "    '''\n",
    "    # training a random forest\n",
    "    rf = RandomForestClassifier(n_estimators=100, n_jobs=-1, verbose=verbose, random_state=42)\n",
    "    rf.fit(train, labels)\n",
    "    \n",
    "    # get the feature importances\n",
    "    feat_imp = rf.feature_importances_\n",
    "    imp_ind = np.argsort(feat_imp)[::-1] # getting the indices in decreasing order of importance\n",
    "    top15_ft = train.columns[imp_ind][:15]\n",
    "    top15_imp = feat_imp[imp_ind][:15]\n",
    "    \n",
    "    return(top15_ft, top15_imp)\n",
    "\n"
   ]
  },
  {
   "cell_type": "code",
   "execution_count": 47,
   "metadata": {},
   "outputs": [],
   "source": [
    "def univariate_analysis(features):\n",
    "    \"\"\"\n",
    "        This function takes a list of features and performs univariate analysis on them by plotting CDF, PDF, Boxplots and \n",
    "        printing mean, standard deviation and median for that feature.\n",
    "    \"\"\"\n",
    "    for ft in features:\n",
    "        print('---UNIVARIATE ANALYSIS OF', ft, '---')\n",
    "        values = train_eda[ft]\n",
    "        values0 = train_eda[train['class']=='neg'][ft]\n",
    "        values1 = train_eda[train['class']=='pos'][ft]\n",
    "        desc_neg = values0.describe() # for printing the mean and standard deviation values of the feature for individual classes\n",
    "        desc_pos = values1.describe()\n",
    "        print(\"FOR NEGATIVE CLASS:- 1. Mean:\", round(desc_neg['mean'], 3), '2. Standard Deviation:', round(desc_neg['std'], 3), '3. Median:', round(desc_neg['50%'], 3))\n",
    "        print(\"FOR POSITIVE CLASS:- 1. Mean:\", round(desc_pos['mean'], 3), '2. Standard Deviation:', round(desc_pos['std'], 3), '3. Median:', round(desc_pos['50%'], 3))\n",
    "# plots\n",
    "        fig, ax = plt.subplots(ncols=3, figsize=(18,6))\n",
    "        sns.kdeplot(values0, ax=ax[0], shade=True, label='Neg')\n",
    "        sns.kdeplot(values1, ax=ax[0], shade=True, label='Pos')\n",
    "        sns.kdeplot(values0, ax=ax[1], cumulative=True, label='Neg')\n",
    "        sns.kdeplot(values1, ax=ax[1], cumulative=True, label='Pos')\n",
    "        sns.boxplot(data=train, x=Y, y=ft, ax=ax[2])\n",
    "        ax[0].set_title('PDF of '+ft+' for Class 0')\n",
    "        ax[1].set_title('CDF of '+ft)\n",
    "        ax[2].set_title('Boxplot of '+ft)\n",
    "        ax[0].legend()\n",
    "        ax[1].legend()\n",
    "        plt.show()\n",
    "        print('-'*100)"
   ]
  },
  {
   "cell_type": "code",
   "execution_count": 51,
   "metadata": {},
   "outputs": [
    {
     "name": "stderr",
     "output_type": "stream",
     "text": [
      "[Parallel(n_jobs=-1)]: Using backend ThreadingBackend with 4 concurrent workers.\n"
     ]
    },
    {
     "name": "stdout",
     "output_type": "stream",
     "text": [
      "building tree 1 of 100\n",
      "building tree 2 of 100\n",
      "building tree 3 of 100\n",
      "building tree 4 of 100\n",
      "building tree 5 of 100\n",
      "building tree 6 of 100\n",
      "building tree 7 of 100\n",
      "building tree 8 of 100\n"
     ]
    },
    {
     "name": "stderr",
     "output_type": "stream",
     "text": [
      "[Parallel(n_jobs=-1)]: Done   5 tasks      | elapsed:    1.7s\n"
     ]
    },
    {
     "name": "stdout",
     "output_type": "stream",
     "text": [
      "building tree 9 of 100\n",
      "building tree 10 of 100\n",
      "building tree 11 of 100\n",
      "building tree 12 of 100\n",
      "building tree 13 of 100\n"
     ]
    },
    {
     "name": "stderr",
     "output_type": "stream",
     "text": [
      "[Parallel(n_jobs=-1)]: Done  10 tasks      | elapsed:    3.2s\n"
     ]
    },
    {
     "name": "stdout",
     "output_type": "stream",
     "text": [
      "building tree 14 of 100\n",
      "building tree 15 of 100\n",
      "building tree 16 of 100\n",
      "building tree 17 of 100\n",
      "building tree 18 of 100\n",
      "building tree 19 of 100\n",
      "building tree 20 of 100\n"
     ]
    },
    {
     "name": "stderr",
     "output_type": "stream",
     "text": [
      "[Parallel(n_jobs=-1)]: Done  17 tasks      | elapsed:    5.9s\n"
     ]
    },
    {
     "name": "stdout",
     "output_type": "stream",
     "text": [
      "building tree 21 of 100\n",
      "building tree 22 of 100\n",
      "building tree 23 of 100\n",
      "building tree 24 of 100\n",
      "building tree 25 of 100\n",
      "building tree 26 of 100\n",
      "building tree 27 of 100\n",
      "building tree 28 of 100\n"
     ]
    },
    {
     "name": "stderr",
     "output_type": "stream",
     "text": [
      "[Parallel(n_jobs=-1)]: Done  24 tasks      | elapsed:    7.5s\n"
     ]
    },
    {
     "name": "stdout",
     "output_type": "stream",
     "text": [
      "building tree 29 of 100\n",
      "building tree 30 of 100\n",
      "building tree 31 of 100\n",
      "building tree 32 of 100\n",
      "building tree 33 of 100\n",
      "building tree 34 of 100\n",
      "building tree 35 of 100\n",
      "building tree 36 of 100\n"
     ]
    },
    {
     "name": "stderr",
     "output_type": "stream",
     "text": [
      "[Parallel(n_jobs=-1)]: Done  33 tasks      | elapsed:    9.3s\n"
     ]
    },
    {
     "name": "stdout",
     "output_type": "stream",
     "text": [
      "building tree 37 of 100\n",
      "building tree 38 of 100\n",
      "building tree 39 of 100\n",
      "building tree 40 of 100\n",
      "building tree 41 of 100\n",
      "building tree 42 of 100\n",
      "building tree 43 of 100\n",
      "building tree 44 of 100\n",
      "building tree 45 of 100\n"
     ]
    },
    {
     "name": "stderr",
     "output_type": "stream",
     "text": [
      "[Parallel(n_jobs=-1)]: Done  42 tasks      | elapsed:   12.6s\n"
     ]
    },
    {
     "name": "stdout",
     "output_type": "stream",
     "text": [
      "building tree 46 of 100\n",
      "building tree 47 of 100\n",
      "building tree 48 of 100\n",
      "building tree 49 of 100\n",
      "building tree 50 of 100\n",
      "building tree 51 of 100\n",
      "building tree 52 of 100\n",
      "building tree 53 of 100\n",
      "building tree 54 of 100\n",
      "building tree 55 of 100\n",
      "building tree 56 of 100\n",
      "building tree 57 of 100"
     ]
    },
    {
     "name": "stderr",
     "output_type": "stream",
     "text": [
      "[Parallel(n_jobs=-1)]: Done  53 tasks      | elapsed:   17.6s\n"
     ]
    },
    {
     "name": "stdout",
     "output_type": "stream",
     "text": [
      "\n",
      "building tree 58 of 100\n",
      "building tree 59 of 100\n",
      "building tree 60 of 100\n",
      "building tree 61 of 100\n",
      "building tree 62 of 100\n",
      "building tree 63 of 100\n",
      "building tree 64 of 100\n",
      "building tree 65 of 100\n",
      "building tree 66 of 100\n",
      "building tree 67 of 100\n",
      "building tree 68 of 100\n"
     ]
    },
    {
     "name": "stderr",
     "output_type": "stream",
     "text": [
      "[Parallel(n_jobs=-1)]: Done  64 tasks      | elapsed:   21.0s\n"
     ]
    },
    {
     "name": "stdout",
     "output_type": "stream",
     "text": [
      "building tree 69 of 100\n",
      "building tree 70 of 100\n",
      "building tree 71 of 100\n",
      "building tree 72 of 100\n",
      "building tree 73 of 100\n",
      "building tree 74 of 100\n",
      "building tree 75 of 100\n",
      "building tree 76 of 100\n",
      "building tree 77 of 100\n",
      "building tree 78 of 100\n",
      "building tree 79 of 100\n",
      "building tree 80 of 100\n"
     ]
    },
    {
     "name": "stderr",
     "output_type": "stream",
     "text": [
      "[Parallel(n_jobs=-1)]: Done  77 tasks      | elapsed:   25.1s\n"
     ]
    },
    {
     "name": "stdout",
     "output_type": "stream",
     "text": [
      "building tree 81 of 100\n",
      "building tree 82 of 100\n",
      "building tree 83 of 100\n",
      "building tree 84 of 100\n",
      "building tree 85 of 100\n",
      "building tree 86 of 100\n",
      "building tree 87 of 100\n",
      "building tree 88 of 100\n",
      "building tree 89 of 100\n",
      "building tree 90 of 100\n",
      "building tree 91 of 100\n",
      "building tree 92 of 100\n",
      "building tree 93 of 100\n"
     ]
    },
    {
     "name": "stderr",
     "output_type": "stream",
     "text": [
      "[Parallel(n_jobs=-1)]: Done  90 tasks      | elapsed:   30.0s\n"
     ]
    },
    {
     "name": "stdout",
     "output_type": "stream",
     "text": [
      "building tree 94 of 100\n",
      "building tree 95 of 100\n",
      "building tree 96 of 100\n",
      "building tree 97 of 100\n",
      "building tree 98 of 100\n",
      "building tree 99 of 100\n",
      "building tree 100 of 100\n"
     ]
    },
    {
     "name": "stderr",
     "output_type": "stream",
     "text": [
      "[Parallel(n_jobs=-1)]: Done 100 out of 100 | elapsed:   34.4s finished\n"
     ]
    }
   ],
   "source": [
    "top15_ft, top_15_imp = top_important_features(train,y)"
   ]
  },
  {
   "cell_type": "code",
   "execution_count": 52,
   "metadata": {},
   "outputs": [
    {
     "name": "stdout",
     "output_type": "stream",
     "text": [
      "The 15 most important features are:, class, bj_000, ag_002, aa_000, aq_000, dn_000, bu_000, bb_000, ee_005, ci_000, ap_000, bt_000, ag_003, ag_001, am_0\n"
     ]
    }
   ],
   "source": [
    "print('The 15 most important features are:', *top15_ft, sep=', ')"
   ]
  },
  {
   "cell_type": "code",
   "execution_count": 56,
   "metadata": {},
   "outputs": [
    {
     "name": "stdout",
     "output_type": "stream",
     "text": [
      "---UNIVARIATE ANALYSIS OF class ---\n"
     ]
    },
    {
     "ename": "NameError",
     "evalue": "name 'train_eda' is not defined",
     "output_type": "error",
     "traceback": [
      "\u001b[1;31m---------------------------------------------------------------------------\u001b[0m",
      "\u001b[1;31mNameError\u001b[0m                                 Traceback (most recent call last)",
      "\u001b[1;32m<ipython-input-56-b7a5aaaf52e0>\u001b[0m in \u001b[0;36m<module>\u001b[1;34m\u001b[0m\n\u001b[1;32m----> 1\u001b[1;33m \u001b[0munivariate_analysis\u001b[0m\u001b[1;33m(\u001b[0m\u001b[0mtop15_ft\u001b[0m\u001b[1;33m)\u001b[0m\u001b[1;33m\u001b[0m\u001b[1;33m\u001b[0m\u001b[0m\n\u001b[0m",
      "\u001b[1;32m<ipython-input-47-811308ac5035>\u001b[0m in \u001b[0;36munivariate_analysis\u001b[1;34m(features)\u001b[0m\n\u001b[0;32m      6\u001b[0m     \u001b[1;32mfor\u001b[0m \u001b[0mft\u001b[0m \u001b[1;32min\u001b[0m \u001b[0mfeatures\u001b[0m\u001b[1;33m:\u001b[0m\u001b[1;33m\u001b[0m\u001b[1;33m\u001b[0m\u001b[0m\n\u001b[0;32m      7\u001b[0m         \u001b[0mprint\u001b[0m\u001b[1;33m(\u001b[0m\u001b[1;34m'---UNIVARIATE ANALYSIS OF'\u001b[0m\u001b[1;33m,\u001b[0m \u001b[0mft\u001b[0m\u001b[1;33m,\u001b[0m \u001b[1;34m'---'\u001b[0m\u001b[1;33m)\u001b[0m\u001b[1;33m\u001b[0m\u001b[1;33m\u001b[0m\u001b[0m\n\u001b[1;32m----> 8\u001b[1;33m         \u001b[0mvalues\u001b[0m \u001b[1;33m=\u001b[0m \u001b[0mtrain_eda\u001b[0m\u001b[1;33m[\u001b[0m\u001b[0mft\u001b[0m\u001b[1;33m]\u001b[0m\u001b[1;33m\u001b[0m\u001b[1;33m\u001b[0m\u001b[0m\n\u001b[0m\u001b[0;32m      9\u001b[0m         \u001b[0mvalues0\u001b[0m \u001b[1;33m=\u001b[0m \u001b[0mtrain_eda\u001b[0m\u001b[1;33m[\u001b[0m\u001b[0mtrain\u001b[0m\u001b[1;33m[\u001b[0m\u001b[1;34m'class'\u001b[0m\u001b[1;33m]\u001b[0m\u001b[1;33m==\u001b[0m\u001b[1;34m'neg'\u001b[0m\u001b[1;33m]\u001b[0m\u001b[1;33m[\u001b[0m\u001b[0mft\u001b[0m\u001b[1;33m]\u001b[0m\u001b[1;33m\u001b[0m\u001b[1;33m\u001b[0m\u001b[0m\n\u001b[0;32m     10\u001b[0m         \u001b[0mvalues1\u001b[0m \u001b[1;33m=\u001b[0m \u001b[0mtrain_eda\u001b[0m\u001b[1;33m[\u001b[0m\u001b[0mtrain\u001b[0m\u001b[1;33m[\u001b[0m\u001b[1;34m'class'\u001b[0m\u001b[1;33m]\u001b[0m\u001b[1;33m==\u001b[0m\u001b[1;34m'pos'\u001b[0m\u001b[1;33m]\u001b[0m\u001b[1;33m[\u001b[0m\u001b[0mft\u001b[0m\u001b[1;33m]\u001b[0m\u001b[1;33m\u001b[0m\u001b[1;33m\u001b[0m\u001b[0m\n",
      "\u001b[1;31mNameError\u001b[0m: name 'train_eda' is not defined"
     ]
    }
   ],
   "source": [
    "univariate_analysis(top15_ft)"
   ]
  },
  {
   "cell_type": "code",
   "execution_count": null,
   "metadata": {},
   "outputs": [],
   "source": []
  },
  {
   "cell_type": "code",
   "execution_count": null,
   "metadata": {},
   "outputs": [],
   "source": []
  },
  {
   "cell_type": "code",
   "execution_count": null,
   "metadata": {},
   "outputs": [],
   "source": []
  },
  {
   "cell_type": "markdown",
   "metadata": {},
   "source": [
    "# Prepare The Data For Machine Learning"
   ]
  },
  {
   "cell_type": "code",
   "execution_count": null,
   "metadata": {},
   "outputs": [],
   "source": [
    "from sklearn.impute import KNNImputer\n",
    "scaler=StandardScaler()\n",
    "X_std = StandardScaler().fit_transform(train.drop(columns=[\"class\"]))\n",
    "imputer = KNNImputer(n_neighbors=2, weights=\"uniform\")\n",
    "X_std=imputer.fit_transform(X_std)\n",
    "pca=PCA(n_components=4)\n",
    "vecs=pca.fit_transform(X_std)\n",
    "reduced_df=pd.DataFrame(data=vecs, columns=['Principal Component 1', 'Principal Component 2','Principal Component 3',\n",
    "                                            'Principal Component 4'])\n",
    "final_df= pd.concat([reduced_df,train[['class']]],axis=1)\n",
    "final_df"
   ]
  },
  {
   "cell_type": "markdown",
   "metadata": {},
   "source": [
    "unknown,unknown. Imputation of missing values.[Online Course] .Available at: https://scikit-learn.org/stable/modules/impute.html [Accesed] 26-10-2023]"
   ]
  },
  {
   "cell_type": "code",
   "execution_count": null,
   "metadata": {},
   "outputs": [],
   "source": [
    "pca= PCA()\n",
    "pca.fit(X_std)\n",
    "explained_variance=pca.explained_variance_ratio_\n",
    "plt.figure(figsize=(8,6))\n",
    "plt.plot(range(1,len(explained_variance)+ 1),explained_variance,marker='o',linestyle='-')\n",
    "plt.xlabel('Principal Component')\n",
    "plt.ylabel('Explained Variance')\n",
    "plt.title('Scree Plot')\n",
    "plt.show()"
   ]
  },
  {
   "cell_type": "code",
   "execution_count": null,
   "metadata": {},
   "outputs": [],
   "source": [
    "plt.figure(figsize=(8, 6)) # set the size of the canvas\n",
    "targets = list(set(final_df['class'])) # we create a list of possible targets (there are 3)\n",
    "colors = ['r', 'g', 'b'] # we define a simple list of colors to differentiate the targets\n",
    "\n",
    "# loop to assign each point to a target and color\n",
    "for target, color in zip(targets, colors):\n",
    "     idx = final_df['class'] == target\n",
    "     plt.scatter(final_df.loc[idx, 'Principal Component 1'], final_df.loc[idx, 'Principal Component 2'], c=color, s=50)\n",
    "\n",
    "# finally, we show the graph\n",
    "plt.legend(targets, title=\"Class\", loc='upper right')\n",
    "plt.xlabel('Principal Component 1')\n",
    "plt.ylabel('Principal Component 2')\n",
    "plt.title('PCA on Scania Dataset')\n",
    "plt.show()"
   ]
  },
  {
   "cell_type": "code",
   "execution_count": null,
   "metadata": {},
   "outputs": [],
   "source": [
    "from sklearn.datasets import load_wine\n",
    "# load the dataset\n",
    "wine = load_wine()\n",
    "\n",
    "# convert the object in a pandas dataframe\n",
    "df = pd.DataFrame(data=wine.data, columns=wine.feature_names)\n",
    "df[\"target\"] = wine.target\n",
    "# normalize data\n",
    "from sklearn.preprocessing import StandardScaler\n",
    "X_std = StandardScaler().fit_transform(df.drop(columns=[\"target\"]))\n",
    "# PCA object specifying the number of principal components desired\n",
    "pca = PCA(n_components=2) # we want to project two dimensions so that we can visualize them!\n",
    "\n",
    "# We fit the PCA model on standardized data\n",
    "vecs = pca.fit_transform(X_std)\n",
    "reduced_df = pd.DataFrame(data=vecs, columns=['Principal Component 1', 'Principal Component 2'])\n",
    "final_df = pd.concat([reduced_df, df[['target']]], axis=1)\n",
    "\n",
    "plt.figure(figsize=(8, 6)) # set the size of the canvas\n",
    "targets = list(set(final_df['target'])) # we create a list of possible targets (there are 3)\n",
    "colors = ['r', 'g', 'b'] # we define a simple list of colors to differentiate the targets\n",
    "\n",
    "# loop to assign each point to a target and color\n",
    "for target, color in zip(targets, colors):\n",
    "     idx = final_df['target'] == target\n",
    "     plt.scatter(final_df.loc[idx, 'Principal Component 1'], final_df.loc[idx, 'Principal Component 2'], c=color, s=50)\n",
    "\n",
    "    # finally, we show the graph\n",
    "plt.legend(targets, title=\"Target\", loc='upper right')\n",
    "plt.xlabel('Principal Component 1')\n",
    "plt.ylabel('Principal Component 2')\n",
    "plt.title('PCA on Wine Dataset')\n",
    "plt.show()\n"
   ]
  },
  {
   "cell_type": "code",
   "execution_count": null,
   "metadata": {},
   "outputs": [],
   "source": [
    "fig= plt.figure(figsize=(8,6))\n",
    "ax=fig.add_subplot(111,projection=\"3d\")\n",
    "\n",
    "targets= list(set(final_df['class']))\n",
    "colors=['b','r','g']\n",
    "\n",
    "\n",
    "for target, color in zip(targets,colors):\n",
    "    idx=final_df['class'] ==target\n",
    "    ax.scatter(final_df.loc[idx,'Principal Component 1'], final_df.loc[idx,'Principal Component 2'],final_df.loc[idx,'Principal Component 3'],c=color, s =50, label=f'class{target}')\n",
    "    \n",
    "ax.set_xlabel('Principal Component 1')\n",
    "ax.set_ylabel('Principal Component 2')\n",
    "ax.set_zlabel('Principal Component 3')\n",
    "plt.title('PCA on Scania Dataset')\n",
    "\n",
    "ax.legend(title='Class',loc='upper right')\n",
    "\n",
    "plt.show()"
   ]
  },
  {
   "cell_type": "markdown",
   "metadata": {},
   "source": [
    "# Prepare Youe Model"
   ]
  },
  {
   "cell_type": "code",
   "execution_count": null,
   "metadata": {},
   "outputs": [],
   "source": [
    "scania_array = final_df.values"
   ]
  },
  {
   "cell_type": "code",
   "execution_count": null,
   "metadata": {},
   "outputs": [],
   "source": [
    "from sklearn.model_selection import train_test_split\n",
    "X = scania_array[:,0:4]\n",
    "y = scania_array[:,4]\n",
    "X_train, X_validation, y_train, y_validation = train_test_split(X, y, test_size=0.30, random_state=1)"
   ]
  },
  {
   "cell_type": "code",
   "execution_count": null,
   "metadata": {},
   "outputs": [],
   "source": [
    "models=[]\n",
    "models.append(('LR',LogisticRegression(solver='liblinear',multi_class='ovr')))\n",
    "models.append(('LDA',LinearDiscriminantAnalysis()))\n",
    "models.append(('KNN',KNeighborsClassifier()))\n",
    "models.append(('CART',DecisionTreeClassifier()))\n",
    "models.append(('NB',GaussianNB()))\n",
    "models.append(('SVM',SVC(gamma=\"auto\")))\n",
    "models.append((GradientBoostingClassifier()))\n",
    "models.append(('AB',AdaBoostClassifier()))"
   ]
  },
  {
   "cell_type": "code",
   "execution_count": null,
   "metadata": {},
   "outputs": [],
   "source": [
    "\n",
    "\n",
    "models = []\n",
    "models.append(('LR', LogisticRegression(solver='liblinear', multi_class='ovr')))\n",
    "models.append(('LDA', LinearDiscriminantAnalysis()))\n",
    "models.append(('KNN', KNeighborsClassifier()))\n",
    "models.append(('CART', DecisionTreeClassifier()))\n",
    "models.append(('NB', GaussianNB()))\n",
    "models.append(('SVM' , SVC(gamma=\"auto\")))\n",
    "models.append(('GB',GradientBoostingClassifier()))\n",
    "models.append(('AB', AdaBoostClassifier()))"
   ]
  },
  {
   "cell_type": "code",
   "execution_count": null,
   "metadata": {},
   "outputs": [],
   "source": [
    "results = []\n",
    "names = []\n",
    "for name, model in models:\n",
    "    kfold = StratifiedKFold(n_splits=10, random_state=1, shuffle=True)\n",
    "    cv_results = cross_val_score(model, X_train, y_train, cv=kfold, scoring='accuracy')\n",
    "    results.append(cv_results)\n",
    "    names.append(name)\n",
    "    print('%s: %f (%f)' % (name, cv_results.mean(), cv_results.std()))"
   ]
  },
  {
   "cell_type": "code",
   "execution_count": null,
   "metadata": {},
   "outputs": [],
   "source": [
    "pyplot.boxplot(results, labels=names)\n",
    "pyplot.title('Algorithm Comparison Accurracy')\n",
    "pyplot.show()"
   ]
  },
  {
   "cell_type": "code",
   "execution_count": null,
   "metadata": {},
   "outputs": [],
   "source": [
    "results = []\n",
    "names = []\n",
    "for name, model in models:\n",
    "    kfold = StratifiedKFold(n_splits=10, random_state=1, shuffle=True)\n",
    "    cv_results = cross_val_score(model, X_train, y_train, cv=kfold, scoring='f1_macro')\n",
    "    results.append(cv_results)\n",
    "    names.append(name)\n",
    "    print('%s: %f (%f)' % (name, cv_results.mean(), cv_results.std()))"
   ]
  },
  {
   "cell_type": "code",
   "execution_count": null,
   "metadata": {},
   "outputs": [],
   "source": [
    "pyplot.boxplot(results, labels=names)\n",
    "pyplot.title('Algorithm Comparison F1_ Macro')\n",
    "pyplot.show()"
   ]
  },
  {
   "cell_type": "code",
   "execution_count": null,
   "metadata": {},
   "outputs": [],
   "source": [
    "from sklearn.neighbors import KNeighborsClassifier\n",
    "from sklearn.metrics import f1_score,confusion_matrix\n",
    "model = KNeighborsClassifier(n_neighbors=5)\n",
    "model.fit(X_train, y_train)\n",
    "predictions = model.predict(X_validation)"
   ]
  },
  {
   "cell_type": "code",
   "execution_count": null,
   "metadata": {},
   "outputs": [],
   "source": [
    "f1_macro_score=f1_score(y_validation,predictions,average='macro')\n",
    "confusion_mat=confusion_matrix(y_validation,predictions)\n",
    "\n",
    "print(' F1 macro Score is:',f1_macro_score)\n",
    "print(confusion_mat)\n"
   ]
  },
  {
   "cell_type": "code",
   "execution_count": null,
   "metadata": {},
   "outputs": [],
   "source": [
    "accuracy=accuracy_score(y_validation,predictions)\n",
    "print('Accuracy:',accuracy)\n",
    "\n",
    "confusion=confusion_matrix(y_validation,predictions)\n",
    "print('confusion_matrix:\\n',confusion)\n",
    "                               \n",
    "f1_macro_score=f1_score(y_validation,predictions,average='macro')\n",
    "recall=recall_score(y_validation,predictions,average='macro')\n",
    "precision=precision_score(y_validation,predictions,average='macro')\n",
    "                               \n",
    "print('Precision is:',precision)\n",
    "print('Recall is:',recall)\n",
    "print('F1- score is:',f1_macro_score)"
   ]
  },
  {
   "cell_type": "code",
   "execution_count": null,
   "metadata": {},
   "outputs": [],
   "source": []
  },
  {
   "cell_type": "code",
   "execution_count": null,
   "metadata": {},
   "outputs": [],
   "source": []
  },
  {
   "cell_type": "markdown",
   "metadata": {},
   "source": [
    "# Fine Tune Your Model"
   ]
  },
  {
   "cell_type": "markdown",
   "metadata": {},
   "source": [
    "# Conclusion"
   ]
  },
  {
   "cell_type": "markdown",
   "metadata": {},
   "source": [
    "# Bibliography"
   ]
  }
 ],
 "metadata": {
  "kernelspec": {
   "display_name": "Python 3",
   "language": "python",
   "name": "python3"
  },
  "language_info": {
   "codemirror_mode": {
    "name": "ipython",
    "version": 3
   },
   "file_extension": ".py",
   "mimetype": "text/x-python",
   "name": "python",
   "nbconvert_exporter": "python",
   "pygments_lexer": "ipython3",
   "version": "3.8.5"
  },
  "toc": {
   "base_numbering": 1,
   "nav_menu": {},
   "number_sections": true,
   "sideBar": true,
   "skip_h1_title": false,
   "title_cell": "Table of Contents",
   "title_sidebar": "Contents",
   "toc_cell": false,
   "toc_position": {},
   "toc_section_display": true,
   "toc_window_display": false
  }
 },
 "nbformat": 4,
 "nbformat_minor": 4
}
